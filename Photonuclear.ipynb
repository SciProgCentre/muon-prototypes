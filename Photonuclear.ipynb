{
 "cells": [
  {
   "cell_type": "markdown",
   "metadata": {},
   "source": [
    "# Photonuclear"
   ]
  },
  {
   "cell_type": "markdown",
   "metadata": {},
   "source": [
    "Input:\n",
    "   * Z - The charge number of the target atom.\n",
    "   * A - The mass number of the target atom.\n",
    "   * ml - The projectile rest mass, in GeV\n",
    "   * K - The projectile initial kinetic energy.\n",
    "   * q - The kinetic energy lost to the photon. \n",
    "\n",
    "Output:\n",
    "    DCS in m^2/kg."
   ]
  },
  {
   "cell_type": "markdown",
   "metadata": {},
   "source": [
    "### Definitions and Applicability\n",
    "\n",
    "Theory from: https://arxiv.org/pdf/hep-ph/9712415.pdf, https://arxiv.org/pdf/hep-ph/0012350.pdf\n"
   ]
  },
  {
   "cell_type": "markdown",
   "metadata": {},
   "source": [
    "The differential cross section can be written in the form\n",
    "\n",
    "\\begin{equation}\n",
    "\\frac{\\text{d}\\sigma(x, Q^2)}{\\text{d}Q^2\\text{d}x} = \\frac{4\\pi\\alpha^2}{Q^4}\\frac{F_2(x, Q^2)}{x}(1-y-\\frac{Mxy}{2E} + (1 - \\frac{2m_l^2}{Q^2})\\frac{y^2(1 + \\frac{4M^2x^2}{Q^2})}{2(1 + R(x, Q^2))})\n",
    "\\end{equation}\n",
    "\n",
    "Where $F_2$ - a nucleon structure function\n",
    "\n",
    "\\begin{equation}\n",
    "F_2(x, Q^2) = \\frac{Q^2}{Q^2 + m_0^2} (F_2^P(x, Q^2) + F_2^R(x, Q^2))\n",
    "\\end{equation}\n",
    "\n",
    "\\begin{equation}\n",
    "F_2 ^{R}(x, Q^{2}) = c_R(t)x_R^{a_R(t)}(1 - x)^{b_R(t)} \n",
    "= c_R(t)e^{a_R(t)\\ln x_R+ b_R(t)\\ln(1 - x)}\n",
    "\\end{equation}\n",
    "\n",
    "\\begin{equation}\n",
    "F_2 ^{P}(x, Q^{2}) = c_P(t)x_P^{a_P(t)}(1 - x)^{b_P(t)} \n",
    "= c_P(t)e^{\\ln(x_P^{a_P(t)}(1 - x)^{b_P(t)})}\n",
    "= c_P(t)e^{\\ln x_P^{a_P(t)}+ \\ln(1 - x)^{b_P(t)}}\n",
    "= c_P(t)e^{a_P(t)\\ln x_P+ b_P(t)\\ln(1 - x)}\n",
    "\\end{equation}\n",
    "\n",
    "Take $x$ as $x = \\frac{Q^2}{2Mq}$\n",
    "\n",
    "\\begin{equation}\n",
    "\\frac{\\text{d}\\sigma(x, Q^2)}{\\text{d}Q^2\\text{d}x} = \\frac{4\\pi\\alpha^2 F_2}{Q^4} \\frac{2Mq}{Q^2}(1 - y - \\frac{My}{2E}\\frac{Q^2}{2Mq} + (1 - \\frac{2m_l^2}{Q^2})\\frac{y^2(1 + (\\frac{2MQ^2}{2MqQ})^2)}{2(1 + R)})\n",
    "\\end{equation}\n",
    "\n",
    "\\begin{equation}\n",
    "\\frac{\\text{d}\\sigma(x, Q^2)}{\\text{d}Q^2\\text{d}x} = \\frac{8\\pi\\alpha^2F_2Mq}{Q^6}(1 - y - \\frac{Q^2y}{4Eq} + (1 - \\frac{2m_l^2}{Q^2}) \\frac{y^2 + (y\\frac{Q}{q})^2}{2(1 + R)})\n",
    "\\end{equation}"
   ]
  },
  {
   "cell_type": "markdown",
   "metadata": {},
   "source": [
    "Take into account, that $y = \\frac{q}{E}$ "
   ]
  },
  {
   "cell_type": "markdown",
   "metadata": {},
   "source": [
    "\\begin{equation}\n",
    "\\frac{\\text{d}\\sigma(x, Q^2)}{\\text{d}Q^2\\text{d}x} = \\frac{8\\pi\\alpha^2F_2Mq}{Q^6}(1 - y - \\frac{Q^2}{4E^2} + (1 - \\frac{2m_l^2}{Q^2}) \\frac{y^2 + \\frac{Q^2}{E^2}}{2(1 + R)})\n",
    "\\end{equation}"
   ]
  },
  {
   "cell_type": "markdown",
   "metadata": {},
   "source": [
    "\\begin{equation}\n",
    "\\frac{\\text{d}\\sigma(x, Q^2)}{\\text{d}Q^2\\text{d}x} = \\frac{8\\pi\\alpha^2F_2Mq}{Q^6}(1 - y  + (1 - \\frac{2m_l^2}{Q^2}) \\frac{y^2 + \\frac{Q^2}{E^2}}{2(1 + R)}) - \\frac{8\\pi\\alpha^2F_2Mq}{Q^6}\\frac{Q^2}{4E^2}\n",
    "\\end{equation}"
   ]
  },
  {
   "cell_type": "markdown",
   "metadata": {},
   "source": [
    "\\begin{equation}\n",
    "\\frac{\\text{d}\\sigma(x, Q^2)}{\\text{d}Q^2\\text{d}x} = \\frac{8\\pi\\alpha^2F_2Mq}{Q^6}(1 - y  + (1 - \\frac{2m_l^2}{Q^2}) \\frac{y^2 + \\frac{Q^2}{E^2}}{2(1 + R)}) - \\frac{8\\pi\\alpha^2F_2Mq}{4Q^4E^2}\n",
    "\\end{equation}"
   ]
  },
  {
   "cell_type": "markdown",
   "metadata": {},
   "source": [
    "\\begin{equation}\n",
    "\\frac{\\text{d}\\sigma(x, Q^2)}{\\text{d}Q^2\\text{d}x} = \\frac{8\\pi\\alpha^2F_2Mq}{Q^2}((\\frac{1 - y  + \\frac{1}{2}(1 - \\frac{2m_l^2}{Q^2}) \\frac{y^2 + \\frac{Q^2}{E^2}}{1 + R}}{Q^4}) - \\frac{1}{4Q^2E^2})\n",
    "\\end{equation}"
   ]
  },
  {
   "cell_type": "markdown",
   "metadata": {},
   "source": [
    "Let's see on $x = \\frac{Q^2}{2Mq}$\n",
    "\n",
    "\\begin{equation}\n",
    "\\frac{\\text{d}x}{\\text{d}q} = \\frac{-Q^2}{2Mq^2}\n",
    "\\end{equation}"
   ]
  },
  {
   "cell_type": "markdown",
   "metadata": {},
   "source": [
    "And\n",
    "\\begin{equation}\n",
    "\\frac{\\text{d}\\sigma(x, Q^2)}{\\text{d}Q^2\\text{d}q}\\frac{2Mq^2}{-Q^2} = \\frac{8\\pi\\alpha^2F_2Mq}{Q^2}((\\frac{1 - y  + \\frac{1}{2}(1 - \\frac{2m_l^2}{Q^2}) \\frac{y^2 + \\frac{Q^2}{E^2}}{1 + R}}{Q^4}) - \\frac{1}{4Q^2E^2})\n",
    "\\end{equation}"
   ]
  },
  {
   "cell_type": "markdown",
   "metadata": {},
   "source": [
    "\\begin{equation}\n",
    "\\frac{\\text{d}\\sigma(x, Q^2)}{\\text{d}Q^2\\text{d}q} = \\frac{-4\\pi\\alpha^2F_2}{q}((\\frac{1 - y  + \\frac{1}{2}(1 - \\frac{2m_l^2}{Q^2}) \\frac{y^2 + \\frac{Q^2}{E^2}}{1 + R}}{Q^4}) - \\frac{1}{4Q^2E^2})\n",
    "\\end{equation}"
   ]
  },
  {
   "cell_type": "markdown",
   "metadata": {},
   "source": [
    "So it's not enough correct equation. We should add some approximation factors. And finally we have:"
   ]
  },
  {
   "cell_type": "markdown",
   "metadata": {},
   "source": [
    "\\begin{equation}\n",
    "\\frac{\\text{d}\\sigma(x, Q^2)}{\\text{d}Q^2\\text{d}q} = \\frac{\\text{cf} F_2}{q} (\\frac{1-y+\\frac{1}{2}(1 - \\frac{2m_l^2}{Q^2}) \\frac {y^2 + \\frac{Q^2}{E^2}}{1 + R}}{Q^4} - \\frac{1}{4E^2Q^2})\n",
    "\\end{equation}\n"
   ]
  },
  {
   "cell_type": "markdown",
   "metadata": {},
   "source": [
    "Then integrate this equation using Gaussian Quadrature from $Q_\\text{min}^2 = \\frac{m_l^2y^2}{1 - y} $ to $Q_\\text{max}^2 = 2MEy - ((M + m_\\pi)^2 - M^2) $\n",
    "\n",
    "\n",
    "\\begin{equation}\n",
    "\\frac{\\text{d}\\sigma}{\\text{d}q} = \\int{\\frac{\\text{d}\\sigma(x, Q^2)}{\\text{d}Q^2\\text{d}q}}\\text{d}Q^2\n",
    "\\end{equation}"
   ]
  },
  {
   "cell_type": "code",
   "execution_count": null,
   "metadata": {},
   "outputs": [],
   "source": [
    "import constants\n",
    "import math"
   ]
  },
  {
   "cell_type": "markdown",
   "metadata": {},
   "source": [
    " see https://github.com/grinisrit/noa/blob/7245bb446deb2415c3ecf92c4561c065625072bc/include/noa/pms/dcs.hh#L289\n",
    "\n",
    "  ALLM97 parameterisation of the proton structure function, F2.\n",
    "  \n",
    "  * x -      The fractional kinetic energy lost to the photon.\n",
    "  * Q2 -     The negative four momentum squared.\n",
    "  * @return The corresponding value of the proton structure function, F2.\n",
    "  \n",
    "   References:\n",
    "        DESY 97-251 [arXiv:hep-ph/9712415].\n",
    "  \n"
   ]
  },
  {
   "cell_type": "code",
   "execution_count": null,
   "metadata": {},
   "outputs": [],
   "source": [
    "def dcs_photonuclear_f2_allm(x, Q2):\n",
    "\n",
    "        m02 = 0.31985\n",
    "        mP2 = 49.457\n",
    "        mR2 = 0.15052\n",
    "        Q02 = 0.52544\n",
    "        Lambda2 = 0.06527\n",
    "\n",
    "        cP1 = 0.28067\n",
    "        cP2 = 0.22291\n",
    "        cP3 = 2.1979\n",
    "        aP1 = -0.0808\n",
    "        aP2 = -0.44812\n",
    "        aP3 = 1.1709\n",
    "        bP1 = 0.36292\n",
    "        bP2 = 1.8917\n",
    "        bP3 = 1.8439\n",
    "\n",
    "        cR1 = 0.80107\n",
    "        cR2 = 0.97307\n",
    "        cR3 = 3.4942\n",
    "        aR1 = 0.58400\n",
    "        aR2 = 0.37888\n",
    "        aR3 = 2.6063\n",
    "        bR1 = 0.01147\n",
    "        bR2 = 3.7582\n",
    "        bR3 = 0.49338\n",
    "\n",
    "        M2 = 0.8803505929\n",
    "        W2 = M2 + Q2 * (1.0 / x - 1.0)\n",
    "\n",
    "        "
   ]
  },
  {
   "cell_type": "code",
   "execution_count": null,
   "metadata": {},
   "outputs": [],
   "source": [
    "t = log(log((Q2 + Q02) / Lambda2) / log(Q02 / Lambda2))"
   ]
  },
  {
   "cell_type": "markdown",
   "metadata": {},
   "source": [
    "\\begin{equation}\n",
    "t = \\ln\\frac{\\ln(\\frac{Q^2 + Q_0^2}{\\Lambda})}{\\ln(\\frac{Q_0^2}{\\Lambda^2})}\n",
    "\\end{equation}"
   ]
  },
  {
   "cell_type": "code",
   "execution_count": null,
   "metadata": {},
   "outputs": [],
   "source": [
    "xP = (Q2 + mP2) / (Q2 + mP2 + W2 - M2)"
   ]
  },
  {
   "cell_type": "markdown",
   "metadata": {},
   "source": [
    "\\begin{equation}\n",
    "\\frac{1}{x_P} = 1 + \\frac{W^2 - M^2}{Q^2 + m_P^2}\n",
    "\\end{equation}"
   ]
  },
  {
   "cell_type": "code",
   "execution_count": null,
   "metadata": {},
   "outputs": [],
   "source": [
    "xR = (Q2 + mR2) / (Q2 + mR2 + W2 - M2)"
   ]
  },
  {
   "cell_type": "markdown",
   "metadata": {},
   "source": [
    "\\begin{equation}\n",
    "\\frac{1}{x_R} = 1 + \\frac{W^2 - M^2}{Q^2 + m_R^2}\n",
    "\\end{equation}"
   ]
  },
  {
   "cell_type": "code",
   "execution_count": null,
   "metadata": {},
   "outputs": [],
   "source": [
    "lnt = log(t)\n",
    "cP = cP1 + (cP1 - cP2) * (1.0 / (1.0 + exp(cP3 * lnt)) - 1.0)\n",
    "aP = aP1 + (aP1 - aP2) * (1.0 / (1.0 + exp(aP3 * lnt)) - 1.0)\n",
    "bP = bP1 + bP2 * exp(bP3 * lnt)\n",
    "cR = cR1 + cR2 * exp(cR3 * lnt)\n",
    "aR = aR1 + aR2 * exp(aR3 * lnt)\n",
    "bR = bR1 + bR2 * exp(bR3 * lnt)"
   ]
  },
  {
   "cell_type": "code",
   "execution_count": null,
   "metadata": {},
   "outputs": [],
   "source": [
    "F2P = cP * exp(aP * log(xP) + bP * log(1 - x))"
   ]
  },
  {
   "cell_type": "markdown",
   "metadata": {},
   "source": [
    "\\begin{equation}\n",
    "F_2 ^{P}(x, Q^{2}) = c_P(t)x_P^{a_P(t)}(1 - x)^{b_P(t)} \n",
    "= c_P(t)e^{\\ln(x_P^{a_P(t)}(1 - x)^{b_P(t)})}\n",
    "= c_P(t)e^{\\ln x_P^{a_P(t)}+ \\ln(1 - x)^{b_P(t)}}\n",
    "= c_P(t)e^{a_P(t)\\ln x_P+ b_P(t)\\ln(1 - x)}\n",
    "\\end{equation}"
   ]
  },
  {
   "cell_type": "code",
   "execution_count": null,
   "metadata": {},
   "outputs": [],
   "source": [
    "F2R = cR * exp(aR * log(xR) + bR * log(1 - x))"
   ]
  },
  {
   "cell_type": "markdown",
   "metadata": {},
   "source": [
    "\\begin{equation}\n",
    "F_2 ^{R}(x, Q^{2}) = c_R(t)x_R^{a_R(t)}(1 - x)^{b_R(t)} \n",
    "= c_R(t)e^{a_R(t)\\ln x_R+ b_R(t)\\ln(1 - x)}\n",
    "\\end{equation}"
   ]
  },
  {
   "cell_type": "code",
   "execution_count": null,
   "metadata": {},
   "outputs": [],
   "source": [
    " return Q2 / (Q2 + m02) * (F2P + F2R)"
   ]
  },
  {
   "cell_type": "markdown",
   "metadata": {},
   "source": [
    "\\begin{equation}\n",
    "F_2(x, Q^2) = \\frac{Q^2}{Q^2 + m_0^2} (F_2^P(x, Q^2) + F_2^R(x, Q^2))\n",
    "\\end{equation}"
   ]
  },
  {
   "cell_type": "markdown",
   "metadata": {},
   "source": [
    " The F2 structure function for atomic weight A.\n",
    "  *\n",
    "  * x -       The fractional kinetic energy lost to the photon.\n",
    "  * F2p -     The proton structure function, F2.\n",
    "  * A -      The atomic weight.\n",
    "  * return: The corresponding value of the structure function, F2.\n",
    "  \n",
    "   The F2 structure function for a nucleus of atomic weight A is computed\n",
    "   according to DRSS, including a Shadowing factor.\n",
    "  \n",
    "   References:\n",
    "        Dutta et al., Phys.Rev. D63 (2001) 094020 [arXiv:hep-ph/0012350].\n",
    "    "
   ]
  },
  {
   "cell_type": "code",
   "execution_count": null,
   "metadata": {},
   "outputs": [],
   "source": [
    "def dcs_photonuclear_f2a_drss(x, F2p, A):\n",
    "\n",
    "        a = 1.0\n",
    "        if (x < 0.0014):\n",
    "                a = exp(-0.1 * log(A))\n",
    "        elif (x < 0.04):\n",
    "                a = exp((0.069 * log10(x) + 0.097) * log(A))\n",
    " "
   ]
  },
  {
   "cell_type": "code",
   "execution_count": null,
   "metadata": {},
   "outputs": [],
   "source": [
    " return (0.5 * A * a *(2.0 + x * (-1.85 + x * (2.45 + x * (-2.35 + x)))) * F2p)"
   ]
  },
  {
   "cell_type": "markdown",
   "metadata": {},
   "source": [
    "\\begin{equation}\n",
    "F_2^{A} = a(A, x)\\frac{A}{2}(1 + P(x))F_2^p\n",
    "\\end{equation}\n"
   ]
  },
  {
   "cell_type": "markdown",
   "metadata": {},
   "source": [
    "\\begin{equation}\n",
    "P(x) = 1 - 1.85x + 2.45x^2 - 2.35x^3 + x^4\n",
    "\\end{equation}"
   ]
  },
  {
   "cell_type": "markdown",
   "metadata": {},
   "source": [
    "  The R ratio of longitudinal to transverse structure functions.\n",
    "  \n",
    "  * @param x       The fractional kinetic energy lost to the photon.\n",
    "  * @param Q2      The negative four momentum squared.\n",
    "  \n",
    "  References: https://inspirehep.net/files/d4b4fcdb5d834b34d41d3226090c37ea\n",
    "  "
   ]
  },
  {
   "cell_type": "code",
   "execution_count": null,
   "metadata": {},
   "outputs": [],
   "source": [
    "def dcs_photonuclear_r_whitlow(x, Q2):\n",
    "\n",
    "        q2 = Q2\n",
    "        if (Q2 < 0.3): \n",
    "            q2 = 0.3"
   ]
  },
  {
   "cell_type": "code",
   "execution_count": null,
   "metadata": {},
   "outputs": [],
   "source": [
    "        theta = 1 + 12.0 * q2 / (1.0 + q2) * 0.015625 / (0.015625 + x * x)"
   ]
  },
  {
   "cell_type": "markdown",
   "metadata": {},
   "source": [
    "\\begin{equation}\n",
    "\\theta = 1 + 12(\\frac{Q^2}{Q^2+1})(\\frac{0.125^2}{0.125^2 + x^2})\n",
    "\\end{equation}"
   ]
  },
  {
   "cell_type": "code",
   "execution_count": null,
   "metadata": {},
   "outputs": [],
   "source": [
    "        return (0.635 / log(q2 / 0.04) * theta + 0.5747 / q2 -\n",
    "            0.3534 / (0.09 + q2 * q2))\n"
   ]
  },
  {
   "cell_type": "markdown",
   "metadata": {},
   "source": [
    "\\begin{equation}\n",
    "R = \\frac{b_1}{\\ln(Q^2/\\Lambda^2)}\\Theta(x, Q^2) + \\frac{b_2}{Q^2} + \\frac{b_3}{Q^4+0.3^2},\n",
    "\\end{equation}\n",
    "\n",
    "where $\\Lambda = 0.2GeV$, and\n",
    "\n",
    "\n",
    "$b_1 = 0.635 $\n",
    "$b_2 = 0.5747 $\n",
    "$b_3 = -0.3534$ \n"
   ]
  },
  {
   "cell_type": "markdown",
   "metadata": {},
   "source": [
    "   The doubly differential cross sections d^2S/(dq*dQ2) for photonuclear\n",
    "   interactions.\n",
    "  \n",
    "   * @param ml      The projectile mass.\n",
    "   * @param A       The target atomic weight.\n",
    "   * @param K       The projectile initial kinetic energy.\n",
    "   * @param q       The kinetic energy lost to the photon.\n",
    "   * @param Q2      The negative four momentum squared.\n",
    "   * @return The doubly differential cross section in m^2/kg/GeV^3.\n",
    "  \n",
    "   References: Dutta et al., Phys.Rev. D63 (2001) 094020 [arXiv:hep-ph/0012350].\n",
    " "
   ]
  },
  {
   "cell_type": "code",
   "execution_count": null,
   "metadata": {},
   "outputs": [],
   "source": [
    "def dcs_photonuclear_d2(A, ml, K, q, Q2):\n",
    "\n",
    "        cf = 2.603096E-35\n",
    "        M = 0.931494 #nucleon mass GeV\n",
    "        E = K + ml\n",
    "\n",
    "        y = q / E\n",
    "        x = 0.5 * Q2 / (M * q)\n",
    "        F2p = dcs_photonuclear_f2_allm(x, Q2)\n",
    "        F2A = dcs_photonuclear_f2a_drss(x, F2p, A)"
   ]
  },
  {
   "cell_type": "code",
   "execution_count": null,
   "metadata": {},
   "outputs": [],
   "source": [
    "        R = dcs_photonuclear_r_whitlow(x, Q2)"
   ]
  },
  {
   "cell_type": "code",
   "execution_count": null,
   "metadata": {},
   "outputs": [],
   "source": [
    "        dds = (1 - y + 0.5 * (1 - 2 * ml * ml / Q2) *(y * y + Q2 / (E * E)) / (1 + R)) /(Q2 * Q2) - 0.25 / (E * E * Q2)"
   ]
  },
  {
   "cell_type": "markdown",
   "metadata": {},
   "source": [
    "\\begin{equation}\n",
    "\\text{dds} = \\frac{1-y+\\frac{1}{2}(1 - \\frac{2m_l^2}{Q^2}) \\frac {y^2 + \\frac{Q^2}{E^2}}{1 + R}}{Q^4} - \\frac{1}{4E^2Q^2}\n",
    "\\end{equation}"
   ]
  },
  {
   "cell_type": "code",
   "execution_count": null,
   "metadata": {},
   "outputs": [],
   "source": [
    "        return cf * F2A * dds / q"
   ]
  },
  {
   "cell_type": "markdown",
   "metadata": {},
   "source": [
    "\\begin{equation}\n",
    "\\frac{\\text{cf} F_2}{q} (\\frac{1-y+\\frac{1}{2}(1 - \\frac{2m_l^2}{Q^2}) \\frac {y^2 + \\frac{Q^2}{E^2}}{1 + R}}{Q^4} - \\frac{1}{4E^2Q^2})\n",
    "\\end{equation}"
   ]
  },
  {
   "cell_type": "markdown",
   "metadata": {},
   "source": [
    " Wrapper for the photonuclear differential cross section.\n",
    "\n",
    " * Physics Handle for physics tables.\n",
    " * element(Z, A, ml) - The target atomic element.\n",
    " * K -       The projectile initial kinetic energy.\n",
    " * q -       The kinetic energy lost to the photon.\n",
    " * return: The differential cross section in m^2/kg.\n",
    " \n",
    "   The photonuclear differential cross-section is computed following DRSS,\n",
    "   with ALLM97 parameterisation of the structure function F2.\n",
    " \n",
    "   References:\n",
    "        Dutta et al., Phys.Rev. D63 (2001) 094020 [arXiv:hep-ph/0012350]."
   ]
  },
  {
   "cell_type": "markdown",
   "metadata": {},
   "source": [
    " Coefficients for the Gaussian quadrature from:\n",
    " https://pomax.github.io/bezierinfo/legendre-gauss.html."
   ]
  },
  {
   "cell_type": "code",
   "execution_count": null,
   "metadata": {},
   "outputs": [],
   "source": [
    "def dcs_photonuclear(Z, A, ml, K, q): \n",
    "    N_GQ = 9\n",
    "    xGQ = [N_GQ]\n",
    "    wQ = [N_GQ]\n",
    "    \n",
    "    xGQ = [ 0.0000000000000000, -0.8360311073266358,\n",
    "                0.8360311073266358, -0.9681602395076261, 0.9681602395076261,\n",
    "                -0.3242534234038089, 0.3242534234038089, -0.6133714327005904,\n",
    "                0.6133714327005904 ]\n",
    "    wGQ = [ 0.3302393550012598, 0.1806481606948574,\n",
    "                0.1806481606948574, 0.0812743883615744, 0.0812743883615744,\n",
    "                0.3123470770400029, 0.3123470770400029, 0.2606106964029354,\n",
    "                0.2606106964029354 ]\n",
    "\n",
    "    M = 0.931494\n",
    "    mpi = 0.134977\n",
    "    doE = K + ml\n",
    "\n",
    "    ds = 0.\n",
    "    if ((q >= (E - ml)) or (q <= (mpi * (1.0 + 0.5 * mpi / M)))):\n",
    "        return ds\n",
    "\n",
    "    y = q / E\n",
    "    Q2min = ml * ml * y * y / (1 - y)\n",
    "    Q2max = 2.0 * M * (q - mpi) - mpi * mpi\n",
    "    if ((Q2max < Q2min) | (Q2min < 0)):\n",
    "        return ds\n",
    "\n",
    "    # Set the binning.\n",
    "    pQ2min = math.log(Q2min)\n",
    "    pQ2max = math.log(Q2max)\n",
    "    dpQ2 = pQ2max - pQ2min\n",
    "    pQ2c = 0.5 * (pQ2max + pQ2min)"
   ]
  },
  {
   "cell_type": "markdown",
   "metadata": {},
   "source": [
    "Integrate the doubly differential cross-section over Q2 using a Gaussian quadrature. Note that 9 points are enough to get a better than 0.1 % accuracy."
   ]
  },
  {
   "cell_type": "code",
   "execution_count": null,
   "metadata": {},
   "outputs": [],
   "source": [
    "    for i in range(N_GQ): \n",
    "        Q2 = math.exp(pQ2c + 0.5 * dpQ2 * xGQ[i])\n",
    "        ds += dcs_photonuclear_d2(A, ml, K, q, Q2) * Q2 * wGQ[i]\n",
    "\n",
    "    if (ds < 0.):\n",
    "        ds = 0.\n",
    "    return 0.0 if 0.5 * ds * dpQ2 < 0 else 0.5 * ds * dpQ2*1E+3 * double(constants.AVOGADRO_NUMBER) * (ml + K) / A"
   ]
  },
  {
   "cell_type": "markdown",
   "metadata": {},
   "source": [
    " Utility function for checking the consistency of the Photonuclear model.\n",
    "\n",
    " * K - The kinetic energy.\n",
    " * q - The kinetic energy lost to the photon.\n",
    " * return `0` if the model is valid.\n",
    "\n",
    " Check for the limit of the PDG model. Below this kinetic transfer a  tabulation is used, which we don't do. Therefore we set the cross-section to zero below 1 GeV where it deviates from the model. In addition, for x < 2E-03 the model is unstable and can lead to osccilations and negative cross-section values."
   ]
  },
  {
   "cell_type": "code",
   "execution_count": null,
   "metadata": {},
   "outputs": [],
   "source": [
    "def dcs_photonuclear_check(K, q):\n",
    "\n",
    "    return (q < 1.) or (q < 2E-03 * K)\n"
   ]
  },
  {
   "cell_type": "markdown",
   "metadata": {},
   "source": [
    "# Usage example\n",
    "\n",
    "For example take Kinetic Energy (K) is equal to 1. And take recoil energi in range from 5% to 100% of K."
   ]
  },
  {
   "cell_type": "code",
   "execution_count": 18,
   "metadata": {},
   "outputs": [
    {
     "data": {
      "image/png": "[encoded data removed]",
      "text/plain": [
       "<Figure size 1440x720 with 1 Axes>"
      ]
     },
     "metadata": {
      "needs_background": "light"
     },
     "output_type": "display_data"
    }
   ],
   "source": [
    "import constants\n",
    "import math\n",
    "import numpy as np\n",
    "from numba import njit, double, int32\n",
    "\n",
    "def dcs_photonuclear_f2_allm(x, Q2):\n",
    "\n",
    "        m02 = 0.31985\n",
    "        mP2 = 49.457\n",
    "        mR2 = 0.15052\n",
    "        Q02 = 0.52544\n",
    "        Lambda2 = 0.06527\n",
    "\n",
    "        cP1 = 0.28067\n",
    "        cP2 = 0.22291\n",
    "        cP3 = 2.1979\n",
    "        aP1 = -0.0808\n",
    "        aP2 = -0.44812\n",
    "        aP3 = 1.1709\n",
    "        bP1 = 0.36292\n",
    "        bP2 = 1.8917\n",
    "        bP3 = 1.8439\n",
    "\n",
    "        cR1 = 0.80107\n",
    "        cR2 = 0.97307\n",
    "        cR3 = 3.4942\n",
    "        aR1 = 0.58400\n",
    "        aR2 = 0.37888\n",
    "        aR3 = 2.6063\n",
    "        bR1 = 0.01147\n",
    "        bR2 = 3.7582\n",
    "        bR3 = 0.49338\n",
    "\n",
    "        M2 = 0.8803505929\n",
    "        W2 = M2 + Q2 * (1.0 / x - 1.0)\n",
    "        t = math.log(math.log((Q2 + Q02) / Lambda2) / math.log(Q02 / Lambda2))\n",
    "        xP = (Q2 + mP2) / (Q2 + mP2 + W2 - M2)\n",
    "        xR = (Q2 + mR2) / (Q2 + mR2 + W2 - M2)\n",
    "        lnt = math.log(t)\n",
    "        cP = cP1 + (cP1 - cP2) * (1.0 / (1.0 + math.exp(cP3 * lnt)) - 1.0)\n",
    "        aP = aP1 + (aP1 - aP2) * (1.0 / (1.0 + math.exp(aP3 * lnt)) - 1.0)\n",
    "        bP = bP1 + bP2 * math.exp(bP3 * lnt)\n",
    "        cR = cR1 + cR2 * math.exp(cR3 * lnt)\n",
    "        aR = aR1 + aR2 * math.exp(aR3 * lnt)\n",
    "        bR = bR1 + bR2 * math.exp(bR3 * lnt)\n",
    "\n",
    "        F2P = cP * math.exp(aP * math.log(xP) + bP * math.log(1 - x))\n",
    "        F2R = cR * math.exp(aR * math.log(xR) + bR * math.log(1 - x))\n",
    "\n",
    "        return Q2 / (Q2 + m02) * (F2P + F2R)     \n",
    "\n",
    "\n",
    "def dcs_photonuclear_f2a_drss(x, F2p, A):\n",
    "\n",
    "        a = 1.0\n",
    "        if (x < 0.0014):\n",
    "                a = math.exp(-0.1 * math.log(A))\n",
    "        elif (x < 0.04):\n",
    "                a = math.exp((0.069 * math.log10(x) + 0.097) * math.log(A))\n",
    "\n",
    "        return (0.5 * A * a *\n",
    "            (2.0 + x * (-1.85 + x * (2.45 + x * (-2.35 + x)))) * F2p)\n",
    "\n",
    "\n",
    "def dcs_photonuclear_r_whitlow(x, Q2):\n",
    "\n",
    "        q2 = Q2\n",
    "        if (Q2 < 0.3): \n",
    "            q2 = 0.3\n",
    "\n",
    "        theta = 1 + 12.0 * q2 / (1.0 + q2) * 0.015625 / (0.015625 + x * x)\n",
    "\n",
    "        return (0.635 / math.log(q2 / 0.04) * theta + 0.5747 / q2 - 0.3534 / (0.09 + q2 * q2))\n",
    "\n",
    "\n",
    "def dcs_photonuclear_d2(A, ml, K, q, Q2):\n",
    "\n",
    "        cf = 2.603096E-35\n",
    "        M = 0.931494\n",
    "        E = K + ml\n",
    "\n",
    "        y = q / E\n",
    "        x = 0.5 * Q2 / (M * q)\n",
    "        F2p = dcs_photonuclear_f2_allm(x, Q2)\n",
    "        F2A = dcs_photonuclear_f2a_drss(x, F2p, A)\n",
    "        R = dcs_photonuclear_r_whitlow(x, Q2)\n",
    "\n",
    "        dds = (1 - y + 0.5 * (1 - 2 * ml * ml / Q2) *(y * y + Q2 / (E * E)) / (1 + R)) /(Q2 * Q2) - 0.25 / (E * E * Q2)\n",
    "\n",
    "        return cf * F2A * dds / q\n",
    "\n",
    "def dcs_photonuclear(Z, A, ml, K, q):\n",
    "    E = K + ml\n",
    "    N_GQ = 9\n",
    "    xGQ = [N_GQ]\n",
    "    wQ = [N_GQ]\n",
    "    \n",
    "    xGQ = [ 0.0000000000000000, -0.8360311073266358,\n",
    "                0.8360311073266358, -0.9681602395076261, 0.9681602395076261,\n",
    "                -0.3242534234038089, 0.3242534234038089, -0.6133714327005904,\n",
    "                0.6133714327005904 ]\n",
    "    wGQ = [ 0.3302393550012598, 0.1806481606948574,\n",
    "                0.1806481606948574, 0.0812743883615744, 0.0812743883615744,\n",
    "                0.3123470770400029, 0.3123470770400029, 0.2606106964029354,\n",
    "                0.2606106964029354 ]\n",
    "\n",
    "    M = 0.931494\n",
    "    mpi = 0.134977\n",
    "    doE = K + ml\n",
    "\n",
    "    ds = 0.\n",
    "    if ((q >= (E - ml)) or (q <= (mpi * (1.0 + 0.5 * mpi / M)))):\n",
    "        return ds\n",
    "\n",
    "    y = q / E\n",
    "    Q2min = ml * ml * y * y / (1 - y)\n",
    "    Q2max = 2.0 * M * (q - mpi) - mpi * mpi\n",
    "    if ((Q2max < Q2min) | (Q2min < 0)):\n",
    "        return ds\n",
    "\n",
    "    # Set the binning.\n",
    "    pQ2min = math.log(Q2min)\n",
    "    pQ2max = math.log(Q2max)\n",
    "    dpQ2 = pQ2max - pQ2min\n",
    "    pQ2c = 0.5 * (pQ2max + pQ2min)\n",
    "         \n",
    "    for i in range(N_GQ): \n",
    "        Q2 = math.exp(pQ2c + 0.5 * dpQ2 * xGQ[i])\n",
    "        ds += dcs_photonuclear_d2(A, ml, K, q, Q2) * Q2 * wGQ[i]\n",
    "\n",
    "    if (ds < 0.):\n",
    "        ds = 0.\n",
    "    return 0.0 if 0.5 * ds * dpQ2 < 0 else 0.5 * ds * dpQ2*1E+3 * double(constants.AVOGADRO_NUMBER) * (ml + K) / A\n",
    "\n",
    "def dcs_photonuclear_check(K, q):\n",
    "\n",
    "    return (q < 1.) or (q < 2E-03 * K)\n",
    "\n",
    "import matplotlib.pyplot as plt\n",
    "frac = 0.05\n",
    "sample = 1500\n",
    "X = []\n",
    "Y = []\n",
    "for i in range(sample):\n",
    "    x = frac + i*(1 - frac)/sample;\n",
    "    y = dcs_photonuclear(11, 22, 0.10565839, 1, x)\n",
    "    X.append(x)\n",
    "    Y.append(y)\n",
    "    \n",
    "\n",
    "fig, ax = plt.subplots()\n",
    "ax.plot(X, Y, '.C3')    \n",
    "plt.xlim([0.,1])\n",
    "\n",
    "ax.set_xlabel('The kinetic energy lost to the photon, GeV', fontsize = 20)\n",
    "ax.set_ylabel('DCS, m^2/kg', fontsize = 20)\n",
    "\n",
    "fig.set_figwidth(20)\n",
    "fig.set_figheight(10)\n",
    "    \n",
    "plt.show()  \n",
    "\n",
    "\n",
    "\n"
   ]
  }
 ],
 "metadata": {
  "kernelspec": {
   "display_name": "Python 3",
   "language": "python",
   "name": "python3"
  },
  "language_info": {
   "codemirror_mode": {
    "name": "ipython",
    "version": 3
   },
   "file_extension": ".py",
   "mimetype": "text/x-python",
   "name": "python",
   "nbconvert_exporter": "python",
   "pygments_lexer": "ipython3",
   "version": "3.8.5"
  }
 },
 "nbformat": 4,
 "nbformat_minor": 4
}
