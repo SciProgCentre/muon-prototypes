{
 "cells": [
  {
   "cell_type": "markdown",
   "metadata": {},
   "source": [
    "# PHOTONUCLEAR"
   ]
  },
  {
   "cell_type": "markdown",
   "metadata": {},
   "source": [
    "Input:\n",
    "   * double Z - The charge number of the target atom.\n",
    "   * double A - The mass number of the target atom.\n",
    "   * double mass - The projectile rest mass, in GeV\n",
    "   * double K - The projectile initial kinetic energy.\n",
    "   * double q - The kinetic energy lost to the photon.\n",
    "  \n",
    "\n",
    "Output:\n",
    "    DCS in m^2/kg.\n",
    "    \n",
    "Theory from: https://arxiv.org/pdf/hep-ph/9712415.pdf, https://arxiv.org/pdf/hep-ph/0012350.pdf"
   ]
  },
  {
   "cell_type": "code",
   "execution_count": null,
   "metadata": {},
   "outputs": [],
   "source": [
    "import constants\n",
    "import math\n",
    "\n",
    "# see https://github.com/grinisrit/noa/blob/7245bb446deb2415c3ecf92c4561c065625072bc/include/noa/pms/dcs.hh#L289\n",
    "\n",
    "# /** ALLM97 parameterisation of the proton structure function, F2.\n",
    "#  *\n",
    "#  * @param x       The fractional kinetic energy lost to the photon.\n",
    "#  * @param Q2      The negative four momentum squared.\n",
    "#  * @return The corresponding value of the proton structure function, F2.\n",
    "#  *\n",
    "#  * References:\n",
    "#  *      DESY 97-251 [arXiv:hep-ph/9712415].\n",
    "#  */\n",
    "\n",
    "def dcs_photonuclear_f2_allm(x, Q2):\n",
    "\n",
    "        m02 = 0.31985\n",
    "        mP2 = 49.457\n",
    "        mR2 = 0.15052\n",
    "        Q02 = 0.52544\n",
    "        Lambda2 = 0.06527\n",
    "\n",
    "        cP1 = 0.28067\n",
    "        cP2 = 0.22291\n",
    "        cP3 = 2.1979\n",
    "        aP1 = -0.0808\n",
    "        aP2 = -0.44812\n",
    "        aP3 = 1.1709\n",
    "        bP1 = 0.36292\n",
    "        bP2 = 1.8917\n",
    "        bP3 = 1.8439\n",
    "\n",
    "        cR1 = 0.80107\n",
    "        cR2 = 0.97307\n",
    "        cR3 = 3.4942\n",
    "        aR1 = 0.58400\n",
    "        aR2 = 0.37888\n",
    "        aR3 = 2.6063\n",
    "        bR1 = 0.01147\n",
    "        bR2 = 3.7582\n",
    "        bR3 = 0.49338\n",
    "\n",
    "        M2 = 0.8803505929\n",
    "        W2 = M2 + Q2 * (1.0 / x - 1.0)\n",
    "\n",
    "        "
   ]
  },
  {
   "cell_type": "code",
   "execution_count": null,
   "metadata": {},
   "outputs": [],
   "source": [
    "t = log(log((Q2 + Q02) / Lambda2) / log(Q02 / Lambda2))"
   ]
  },
  {
   "cell_type": "markdown",
   "metadata": {},
   "source": [
    "\\begin{equation}\n",
    "t = \\ln\\frac{\\ln(\\frac{Q^2 + Q_0^2}{\\Lambda})}{\\ln(\\frac{Q_0^2}{\\Lambda^2})}\n",
    "\\end{equation}"
   ]
  },
  {
   "cell_type": "code",
   "execution_count": null,
   "metadata": {},
   "outputs": [],
   "source": [
    "xP = (Q2 + mP2) / (Q2 + mP2 + W2 - M2)"
   ]
  },
  {
   "cell_type": "markdown",
   "metadata": {},
   "source": [
    "\\begin{equation}\n",
    "\\frac{1}{x_P} = 1 + \\frac{W^2 - M^2}{Q^2 + m_P^2}\n",
    "\\end{equation}"
   ]
  },
  {
   "cell_type": "code",
   "execution_count": null,
   "metadata": {},
   "outputs": [],
   "source": [
    "xR = (Q2 + mR2) / (Q2 + mR2 + W2 - M2)"
   ]
  },
  {
   "cell_type": "markdown",
   "metadata": {},
   "source": [
    "\\begin{equation}\n",
    "\\frac{1}{x_R} = 1 + \\frac{W^2 - M^2}{Q^2 + m_R^2}\n",
    "\\end{equation}"
   ]
  },
  {
   "cell_type": "code",
   "execution_count": null,
   "metadata": {},
   "outputs": [],
   "source": [
    "lnt = log(t)\n",
    "cP = cP1 + (cP1 - cP2) * (1.0 / (1.0 + exp(cP3 * lnt)) - 1.0)\n",
    "aP = aP1 + (aP1 - aP2) * (1.0 / (1.0 + exp(aP3 * lnt)) - 1.0)\n",
    "bP = bP1 + bP2 * exp(bP3 * lnt)\n",
    "cR = cR1 + cR2 * exp(cR3 * lnt)\n",
    "aR = aR1 + aR2 * exp(aR3 * lnt)\n",
    "bR = bR1 + bR2 * exp(bR3 * lnt)"
   ]
  },
  {
   "cell_type": "code",
   "execution_count": null,
   "metadata": {},
   "outputs": [],
   "source": [
    "F2P = cP * exp(aP * log(xP) + bP * log(1 - x))"
   ]
  },
  {
   "cell_type": "markdown",
   "metadata": {},
   "source": [
    "\\begin{equation}\n",
    "F_2 ^{P}(x, Q^{2}) = c_P(t)x_P^{a_P(t)}(1 - x)^{b_P(t)} \n",
    "= c_P(t)e^{\\ln(x_P^{a_P(t)}(1 - x)^{b_P(t)})}\n",
    "= c_P(t)e^{\\ln x_P^{a_P(t)}+ \\ln(1 - x)^{b_P(t)}}\n",
    "= c_P(t)e^{a_P(t)\\ln x_P+ b_P(t)\\ln(1 - x)}\n",
    "\\end{equation}"
   ]
  },
  {
   "cell_type": "code",
   "execution_count": null,
   "metadata": {},
   "outputs": [],
   "source": [
    "F2R = cR * exp(aR * log(xR) + bR * log(1 - x))"
   ]
  },
  {
   "cell_type": "markdown",
   "metadata": {},
   "source": [
    "\\begin{equation}\n",
    "F_2 ^{R}(x, Q^{2}) = c_R(t)x_R^{a_R(t)}(1 - x)^{b_R(t)} \n",
    "= c_R(t)e^{a_R(t)\\ln x_R+ b_R(t)\\ln(1 - x)}\n",
    "\\end{equation}"
   ]
  },
  {
   "cell_type": "code",
   "execution_count": null,
   "metadata": {},
   "outputs": [],
   "source": [
    " return Q2 / (Q2 + m02) * (F2P + F2R)"
   ]
  },
  {
   "cell_type": "markdown",
   "metadata": {},
   "source": [
    "\\begin{equation}\n",
    "F_2(x, Q^2) = \\frac{Q^2}{Q^2 + m_0^2} (F_2^P(x, Q^2) + F_2^R(x, Q^2))\n",
    "\\end{equation}"
   ]
  },
  {
   "cell_type": "code",
   "execution_count": null,
   "metadata": {},
   "outputs": [],
   "source": [
    "def dcs_photonuclear_f2a_drss(x, F2p, A):\n",
    "\n",
    "        a = 1.0\n",
    "        if (x < 0.0014):\n",
    "                a = exp(-0.1 * log(A))\n",
    "        elif (x < 0.04):\n",
    "                a = exp((0.069 * log10(x) + 0.097) * log(A))\n",
    " "
   ]
  },
  {
   "cell_type": "code",
   "execution_count": null,
   "metadata": {},
   "outputs": [],
   "source": [
    " return (0.5 * A * a *(2.0 + x * (-1.85 + x * (2.45 + x * (-2.35 + x)))) * F2p)"
   ]
  },
  {
   "cell_type": "markdown",
   "metadata": {},
   "source": [
    "\\begin{equation}\n",
    "F_2^{A} = a(A, x)\\frac{A}{2}(1 + P(x))F_2^p\n",
    "\\end{equation}\n"
   ]
  },
  {
   "cell_type": "markdown",
   "metadata": {},
   "source": [
    "\\begin{equation}\n",
    "P(x) = 1 - 1.85x + 2.45x^2 - 2.35x^3 + x^4\n",
    "\\end{equation}"
   ]
  },
  {
   "cell_type": "code",
   "execution_count": null,
   "metadata": {},
   "outputs": [],
   "source": [
    "# /* The R ratio of longitudinal to transverse structure functions.\n",
    "#  *\n",
    "#  * @param x       The fractional kinetic energy lost to the photon.\n",
    "#  * @param Q2      The negative four momentum squared.\n",
    "#  *\n",
    "#  * References:\n",
    "#  *      Whitlow, SLAC-PUB-5284.\n",
    "#  */\n",
    "\n",
    "def dcs_photonuclear_r_whitlow(x, Q2):\n",
    "\n",
    "        q2 = Q2\n",
    "        if (Q2 < 0.3): \n",
    "            q2 = 0.3\n",
    "\n",
    "        theta = 1 + 12.0 * q2 / (1.0 + q2) * 0.015625 / (0.015625 + x * x)\n",
    "\n",
    "        return (0.635 / log(q2 / 0.04) * theta + 0.5747 / q2 -\n",
    "            0.3534 / (0.09 + q2 * q2))\n",
    "\n",
    "\n",
    "#   The doubly differential cross sections d^2S/(dq*dQ2) for photonuclear\n",
    "#   interactions.\n",
    "#  \n",
    "#   @param ml      The projectile mass.\n",
    "#   @param A       The target atomic weight.\n",
    "#   @param K       The projectile initial kinetic energy.\n",
    "#   @param q       The kinetic energy lost to the photon.\n",
    "#   @param Q2      The negative four momentum squared.\n",
    "#   @return The doubly differential cross section in m^2/kg/GeV^3.\n",
    "#  \n",
    "#   References:\n",
    "#        Dutta et al., Phys.Rev. D63 (2001) 094020 [arXiv:hep-ph/0012350].\n",
    "# \n",
    " \n",
    "def dcs_photonuclear_d2(A, ml, K, q, Q2):\n",
    "\n",
    "        cf = 2.603096E-35\n",
    "        M = 0.931494\n",
    "        E = K + ml\n",
    "\n",
    "        y = q / E\n",
    "        x = 0.5 * Q2 / (M * q)\n",
    "        F2p = dcs_photonuclear_f2_allm(x, Q2)\n",
    "        F2A = dcs_photonuclear_f2a_drss(x, F2p, A)\n",
    "        R = dcs_photonuclear_r_whitlow(x, Q2)\n",
    "\n",
    "        dds = (1 - y + 0.5 * (1 - 2 * ml * ml / Q2) *(y * y + Q2 / (E * E)) / (1 + R)) /(Q2 * Q2) - 0.25 / (E * E * Q2)\n",
    "\n",
    "        return cf * F2A * dds / q\n",
    "\n",
    "\n",
    "\n",
    "#   The default photonuclear differential cross section.\n",
    " \n",
    "#   @param Z       The charge number of the target atom.\n",
    "#   @param A       The mass number of the target atom.\n",
    "#   @param mu      The projectile rest mass, in GeV\n",
    "#   @param K       The projectile initial kinetic energy.\n",
    "#   @param q       The kinetic energy lost to the photon.\n",
    "#   @return The corresponding value of the atomic DCS, in m^2 / GeV.\n",
    " \n",
    "#   The photonuclear differential cross-section is computed following DRSS,\n",
    "#   with ALLM97 parameterisation of the structure function F2.\n",
    " \n",
    "#   References:\n",
    "#        Dutta et al., Phys.Rev. D63 (2001) 094020 [arXiv:hep-ph/0012350].\n",
    " \n",
    "\n",
    "def default_dcs_photonuclear(Z, A, ml, K, q):\n",
    "\n",
    "# Coefficients for the Gaussian quadrature from:\n",
    "# https://pomax.github.io/bezierinfo/legendre-gauss.html.\n",
    " \n",
    "    N_GQ = 9\n",
    "    xGQ[N_GQ] = { 0.0000000000000000, -0.8360311073266358,\n",
    "                0.8360311073266358, -0.9681602395076261, 0.9681602395076261,\n",
    "                -0.3242534234038089, 0.3242534234038089, -0.6133714327005904,\n",
    "                0.6133714327005904 }\n",
    "    wGQ[N_GQ] = { 0.3302393550012598, 0.1806481606948574,\n",
    "                0.1806481606948574, 0.0812743883615744, 0.0812743883615744,\n",
    "                0.3123470770400029, 0.3123470770400029, 0.2606106964029354,\n",
    "                0.2606106964029354 }\n",
    "\n",
    "    M = 0.931494\n",
    "    mpi = 0.134977\n",
    "    doE = K + ml\n",
    "\n",
    "    ds = 0.\n",
    "    if ((q >= (E - ml)) or (q <= (mpi * (1.0 + 0.5 * mpi / M)))):\n",
    "        return ds\n",
    "\n",
    "    y = q / E\n",
    "    Q2min = ml * ml * y * y / (1 - y)\n",
    "    Q2max = 2.0 * M * (q - mpi) - mpi * mpi\n",
    "    if ((Q2max < Q2min) | (Q2min < 0)):\n",
    "        return ds\n",
    "\n",
    "    # Set the binning.\n",
    "    pQ2min = log(Q2min)\n",
    "    pQ2max = log(Q2max)\n",
    "    dpQ2 = pQ2max - pQ2min\n",
    "    pQ2c = 0.5 * (pQ2max + pQ2min)\n",
    "\n",
    "        \n",
    "    # Integrate the doubly differential cross-section over Q2 using\n",
    "    # a Gaussian quadrature. Note that 9 points are enough to get a\n",
    "    # better than 0.1 % accuracy.\n",
    "         \n",
    "    for i in range(N_GQ): \n",
    "        Q2 = exp(pQ2c + 0.5 * dpQ2 * xGQ[i])\n",
    "        ds += dcs_photonuclear_d2(A, ml, K, q, Q2) * Q2 * wGQ[i]\n",
    "\n",
    "    if (ds < 0.):\n",
    "        ds = 0.\n",
    "    return 0.5 * ds * dpQ2\n",
    "\n",
    "\n",
    "\n",
    "\n",
    "# Wrapper for the photonuclear differential cross section.\n",
    "\n",
    "# @param Physics Handle for physics tables.\n",
    "# @param element The target atomic element.\n",
    "# @param K       The projectile initial kinetic energy.\n",
    "# @param q       The kinetic energy lost to the photon.\n",
    "# @return The differential cross section in m^2/kg.\n",
    "\n",
    "# double dcs_photonuclear(const struct pumas_physics * physics,\n",
    "#     const struct atomic_element * element, double K, double q)\n",
    "# {\n",
    "#         if (dcs_photonuclear_check(K, q)) { /* Check the kinematic range. */\n",
    "#                 return 0.;\n",
    "#         } else {\n",
    "#                 return physics->dcs_photonuclear(element->Z, element->A,\n",
    "#                     physics->mass, K, q) * 1E+03 * AVOGADRO_NUMBER *\n",
    "#                     (physics->mass + K) / element->A;\n",
    "#         }\n",
    "# }\n",
    "\n",
    "\n",
    "# Utility function for checking the consistency of the Photonuclear model.\n",
    "\n",
    "# @param K The kinetic energy.\n",
    "# @param q The kinetic energy lost to the photon.\n",
    "# @return `0` if the model is valid.\n",
    "\n",
    "# Check for the limit of the PDG model. Below this kinetic transfer a\n",
    "# tabulation is used, which we don't do. Therefore we set the cross-section to\n",
    "# zero below 1 GeV where it deviates from the model. In addition, for x < 2E-03\n",
    "# the model is unstable and can lead to osccilations and negative cross-section\n",
    "# values.\n",
    "\n",
    "def dcs_photonuclear_check(K, q):\n",
    "\n",
    "    return (q < 1.) or (q < 2E-03 * K)\n"
   ]
  }
 ],
 "metadata": {
  "kernelspec": {
   "display_name": "Python 3",
   "language": "python",
   "name": "python3"
  },
  "language_info": {
   "codemirror_mode": {
    "name": "ipython",
    "version": 3
   },
   "file_extension": ".py",
   "mimetype": "text/x-python",
   "name": "python",
   "nbconvert_exporter": "python",
   "pygments_lexer": "ipython3",
   "version": "3.8.5"
  }
 },
 "nbformat": 4,
 "nbformat_minor": 4
}
