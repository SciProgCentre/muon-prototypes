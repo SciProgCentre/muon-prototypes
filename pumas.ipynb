{
 "cells": [
  {
   "cell_type": "markdown",
   "id": "8873c03b",
   "metadata": {},
   "source": [
    "# PUMAS differential cross-sections"
   ]
  },
  {
   "cell_type": "code",
   "execution_count": 1,
   "id": "2fc38962",
   "metadata": {},
   "outputs": [],
   "source": [
    "import torch\n",
    "import constants\n",
    "import utils"
   ]
  },
  {
   "cell_type": "markdown",
   "id": "be5d9fd0",
   "metadata": {},
   "source": [
    "Fetch the data (if you haven't yet) for testing the DCS calculations from the [noa](https://github.com/grinisrit/noa) platform:\n",
    "```\n",
    "!git clone --depth 1 --branch v0.0.1 https://github.com/grinisrit/noa-test-data.git\n",
    "```"
   ]
  },
  {
   "cell_type": "markdown",
   "id": "7f507713",
   "metadata": {},
   "source": [
    "Load the Bremsstrahlung DCS values and parameters"
   ]
  },
  {
   "cell_type": "code",
   "execution_count": 2,
   "id": "d7f8a994",
   "metadata": {},
   "outputs": [],
   "source": [
    "kinetic_energies = list(torch.jit.load('noa-test-data/pms/kinetic_energies.pt').parameters())[0]\n",
    "recoil_energies = list(torch.jit.load('noa-test-data/pms/recoil_energies.pt').parameters())[0]\n",
    "pumas_brems = list(torch.jit.load('noa-test-data/pms/pumas_brems.pt').parameters())[0]"
   ]
  },
  {
   "cell_type": "markdown",
   "id": "8d1db447",
   "metadata": {},
   "source": [
    "Use them to test your implementation (have a look at [examples](https://github.com/grinisrit/noa/blob/master/test/unit/test-dcs-calc.cc))"
   ]
  },
  {
   "cell_type": "code",
   "execution_count": 3,
   "id": "6d3b47a0",
   "metadata": {},
   "outputs": [],
   "source": [
    "import bremsstrahlung"
   ]
  },
  {
   "cell_type": "code",
   "execution_count": 4,
   "id": "ec99f3be",
   "metadata": {},
   "outputs": [],
   "source": [
    "brems = bremsstrahlung.vmap_bremsstrahlung(\n",
    "    kinetic_energies,\n",
    "    recoil_energies,\n",
    "    constants.STANDARD_ROCK.A,\n",
    "    constants.STANDARD_ROCK.Z,\n",
    "    constants.MUON_MASS,\n",
    ")"
   ]
  },
  {
   "cell_type": "markdown",
   "id": "9b6088f9",
   "metadata": {},
   "source": [
    "The error should be less than 1e-11"
   ]
  },
  {
   "cell_type": "code",
   "execution_count": 5,
   "id": "717b0f2c",
   "metadata": {},
   "outputs": [
    {
     "data": {
      "text/plain": [
       "tensor(4.5194e-06, dtype=torch.float64)"
      ]
     },
     "execution_count": 5,
     "metadata": {},
     "output_type": "execute_result"
    }
   ],
   "source": [
    "utils.relative_error(brems, pumas_brems)"
   ]
  }
 ],
 "metadata": {
  "kernelspec": {
   "display_name": "Python 3",
   "language": "python",
   "name": "python3"
  },
  "language_info": {
   "codemirror_mode": {
    "name": "ipython",
    "version": 3
   },
   "file_extension": ".py",
   "mimetype": "text/x-python",
   "name": "python",
   "nbconvert_exporter": "python",
   "pygments_lexer": "ipython3",
   "version": "3.9.5"
  }
 },
 "nbformat": 4,
 "nbformat_minor": 5
}
