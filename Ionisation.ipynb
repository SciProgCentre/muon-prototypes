{
 "cells": [
  {
   "cell_type": "markdown",
   "metadata": {},
   "source": [
    "# Ionisation"
   ]
  },
  {
   "cell_type": "markdown",
   "metadata": {},
   "source": [
    "Input:\n",
    "   * A - The charge number of the target atom.\n",
    "   * I - The mean excitation of the target atom. \n",
    "   * Z - The mass number of the target atom.\n",
    "   * mu - The projectile rest mass, in GeV\n",
    "   * K - The projectile initial kinetic energy.\n",
    "   * q - The kinetic energy lost to the photon.\n",
    "  \n",
    "Output:\n",
    "    DCS in m^2/kg."
   ]
  },
  {
   "cell_type": "markdown",
   "metadata": {},
   "source": [
    "### Definitions and Applicability\n",
    "\n",
    "Theory from: Salvat et al., NIMB316 (2013) 144-159, Sokalski et al., Phys.Rev.D64 (2001) 074015 (MUM)"
   ]
  },
  {
   "cell_type": "markdown",
   "metadata": {},
   "source": [
    "The differential cross section for ionisation is computed following Salvat et al., NIMB316 (2013) 144-159, considering only close interactions for DELs. In addition a radiative correction is applied according toSokalski et al., Phys.Rev.D64 (2001) 074015 (MUM).\n",
    " "
   ]
  },
  {
   "cell_type": "markdown",
   "metadata": {},
   "source": [
    "\\begin{equation}\n",
    "\\frac{\\text{d}\\sigma}{\\text{d}q} = \\frac{CEZ}{A(\\frac{1}{2P_2} + \\frac{P_2W_\\text{max}}{E^2W_\\text{max} - qP_2})}(1 + \\Delta_{e\\gamma}),\n",
    "\\end{equation}\n",
    "\n",
    "where $P_2 = E^2 - M_\\mu^2$, $W_{max} = \\frac{2m_e P_2}{M_\\mu^2 + m_e(m_e + 2E)}$ and $C = 1.535336*10^{-5}$ \n",
    "\n",
    "$\\Delta_{e\\gamma}$ - Radiative correction\n",
    "\n",
    "\\begin{equation}\n",
    "\\Delta_{e\\gamma} = \\frac{\\alpha}{2\\pi}\\ln(1 + \\frac{2\\nu E}{m_e})(\\ln(\\frac{4E^2(1 - \\nu)}{M_\\mu^2}) - \\ln(1 + \\frac{2\\nu E}{m_e}))\n",
    "\\end{equation}\n",
    "\n",
    "If we take into account, that $\\nu = \\frac{q}{E}$\n",
    "\n",
    "\\begin{equation}\n",
    "\\Delta_{e\\gamma} = \\frac{\\alpha}{2\\pi}\\ln(1 + \\frac{2q}{m_e})(\\ln(\\frac{4E(E - q)}{M_\\mu^2}) - \\ln(1 + \\frac{2q}{m_e}))\n",
    "\\end{equation}"
   ]
  },
  {
   "cell_type": "code",
   "execution_count": null,
   "metadata": {},
   "outputs": [],
   "source": [
    "import math\n",
    "\n",
    "def dcs_ionisation(A, I, Z, mu, K, q):\n",
    "    ELECTRON_MASS = 0.510998910E-03\n",
    "    X_FRACTION = 5E-2"
   ]
  },
  {
   "cell_type": "code",
   "execution_count": null,
   "metadata": {},
   "outputs": [],
   "source": [
    "    P2 = K * (K + 2. * mu)"
   ]
  },
  {
   "cell_type": "markdown",
   "metadata": {},
   "source": [
    "\\begin{equation}\n",
    "P_2 = K(K + 2M_\\mu)\n",
    "\\end{equation}"
   ]
  },
  {
   "cell_type": "code",
   "execution_count": null,
   "metadata": {},
   "outputs": [],
   "source": [
    "    E = K + mu;"
   ]
  },
  {
   "cell_type": "code",
   "execution_count": null,
   "metadata": {},
   "outputs": [],
   "source": [
    "    Wmax = 2. * ELECTRON_MASS * P2 /(mu * mu + ELECTRON_MASS * (ELECTRON_MASS + 2. * E))"
   ]
  },
  {
   "cell_type": "markdown",
   "metadata": {},
   "source": [
    "\\begin{equation}\n",
    "W_{max} = \\frac{2m_e P_2}{M_\\mu^2 + m_e(m_e + 2E)}\n",
    "\\end{equation}"
   ]
  },
  {
   "cell_type": "code",
   "execution_count": null,
   "metadata": {},
   "outputs": [],
   "source": [
    "    if ((Wmax < X_FRACTION * K) or (q > Wmax)):\n",
    "        return 0.\n",
    "    Wmin = 0.62 * I\n",
    "    if (q <= Wmin):\n",
    "        return 0."
   ]
  },
  {
   "cell_type": "markdown",
   "metadata": {},
   "source": [
    "Close interactions for Q >> atomic binding energies"
   ]
  },
  {
   "cell_type": "code",
   "execution_count": null,
   "metadata": {},
   "outputs": [],
   "source": [
    "    a0 = 0.5 / P2\n",
    "    a1 = -1. / Wmax\n",
    "    a2 = E * E / P2\n",
    "    cf = 1.535336E-05"
   ]
  },
  {
   "cell_type": "code",
   "execution_count": null,
   "metadata": {},
   "outputs": [],
   "source": [
    "    cs = cf * E * Z / A * (a0 + 1. / q * (a1 + a2 / q))"
   ]
  },
  {
   "cell_type": "markdown",
   "metadata": {},
   "source": [
    "\\begin{equation}\n",
    "cs =  \\frac{\\text{cf}*EZ }{A(a_0 + \\frac{1}{q(a_1 + a_2/q)})} \n",
    "\\end{equation}"
   ]
  },
  {
   "cell_type": "markdown",
   "metadata": {},
   "source": [
    "### Radiative correction"
   ]
  },
  {
   "cell_type": "code",
   "execution_count": null,
   "metadata": {},
   "outputs": [],
   "source": [
    "    Delta = 0."
   ]
  },
  {
   "cell_type": "code",
   "execution_count": null,
   "metadata": {},
   "outputs": [],
   "source": [
    "    m1 = mu - ELECTRON_MASS;"
   ]
  },
  {
   "cell_type": "markdown",
   "metadata": {},
   "source": [
    "\\begin{equation}\n",
    "m_1 = M_\\mu - m_e\n",
    "\\end{equation}"
   ]
  },
  {
   "cell_type": "code",
   "execution_count": null,
   "metadata": {},
   "outputs": [],
   "source": [
    "    if (K >= 0.5 * m1 * m1 / ELECTRON_MASS):"
   ]
  },
  {
   "cell_type": "code",
   "execution_count": null,
   "metadata": {},
   "outputs": [],
   "source": [
    "            L1 = math.log(1. + 2. * q / ELECTRON_MASS);"
   ]
  },
  {
   "cell_type": "markdown",
   "metadata": {},
   "source": [
    "\\begin{equation}\n",
    "L_1 = \\ln(1 + \\frac{2q}{m_e})\n",
    "\\end{equation}"
   ]
  },
  {
   "cell_type": "code",
   "execution_count": null,
   "metadata": {},
   "outputs": [],
   "source": [
    "            Delta = 1.16141E-03 * L1 * (math.log(4. * E * (E - q) / (mu * mu)) - L1)  "
   ]
  },
  {
   "cell_type": "markdown",
   "metadata": {},
   "source": [
    "\\begin{equation}\n",
    "\\Delta_{e\\gamma} = \\frac{\\alpha}{2\\pi} L_1 (ln(\\frac{4E(E-q)}{M_\\mu^2} - L_1)\n",
    "\\end{equation}\n",
    "\n",
    "$\\frac{\\alpha}{2\\pi} = 1.16141*10^{-3}$"
   ]
  },
  {
   "cell_type": "code",
   "execution_count": null,
   "metadata": {},
   "outputs": [],
   "source": [
    "    return cs * (1. + Delta)\n"
   ]
  },
  {
   "cell_type": "markdown",
   "metadata": {},
   "source": [
    "# Usage example\n",
    "\n",
    "For example take Kinetic Energy (K) is equal to 1. And take recoil energi in range from 5% to 100% of K."
   ]
  },
  {
   "cell_type": "code",
   "execution_count": 7,
   "metadata": {},
   "outputs": [
    {
     "data": {
      "image/png": "[encoded data removed]",
      "text/plain": [
       "<Figure size 1440x720 with 1 Axes>"
      ]
     },
     "metadata": {
      "needs_background": "light"
     },
     "output_type": "display_data"
    }
   ],
   "source": [
    "import math\n",
    "from numba import njit, double, int32\n",
    "\n",
    "@njit(double(double,double,double,double,double, double))\n",
    "def dcs_ionisation(A, I, Z, mu, K, q):\n",
    "    ELECTRON_MASS = 0.510998910E-03\n",
    "    X_FRACTION = 5E-2\n",
    "    P2 = K * (K + 2. * mu)\n",
    "    E = K + mu\n",
    "    Wmax = 2. * ELECTRON_MASS * P2 /(mu * mu + ELECTRON_MASS * (ELECTRON_MASS + 2. * E))\n",
    "    if ((Wmax < X_FRACTION * K) or (q > Wmax)):\n",
    "        return 0.\n",
    "    Wmin = 0.62 * I\n",
    "    if (q <= Wmin):\n",
    "        return 0.\n",
    "    \n",
    "    a0 = 0.5 / P2\n",
    "    a1 = -1. / Wmax\n",
    "    a2 = E * E / P2\n",
    "    cs = 1.535336E-05 * E * Z / A * (a0 + 1. / q * (a1 + a2 / q))\n",
    "\n",
    "    Delta = 0.\n",
    "    m1 = mu - ELECTRON_MASS;\n",
    "    if (K >= 0.5 * m1 * m1 / ELECTRON_MASS):\n",
    "            L1 = math.log(1. + 2. * q / ELECTRON_MASS);\n",
    "            Delta = 1.16141E-03 * L1 * (math.log(4. * E * (E - q) / (mu * mu)) - L1)        \n",
    "    return cs * (1. + Delta)\n",
    "\n",
    "\n",
    "import numpy as np\n",
    "import matplotlib.pyplot as plt\n",
    "\n",
    "sample = 1500\n",
    "X = []\n",
    "Y = []\n",
    "for i in range(sample):\n",
    "    x = 0.05 + i*(1 - 0.05)/sample;\n",
    "    y = dcs_ionisation(22, 0.1364E-6, 11, 0.10565839, 1, x)\n",
    "    X.append(x)\n",
    "    Y.append(y)\n",
    "    \n",
    "\n",
    "fig, ax = plt.subplots()\n",
    "ax.plot(X, Y, '.C3')    \n",
    "plt.xlim([0.,0.4])\n",
    "\n",
    "ax.set_xlabel('The kinetic energy lost to the photon, GeV', fontsize = 20)\n",
    "ax.set_ylabel('DCS, m^2/kg', fontsize = 20)\n",
    "\n",
    "fig.set_figwidth(20)\n",
    "fig.set_figheight(10)\n",
    "    \n",
    "plt.show()  "
   ]
  }
 ],
 "metadata": {
  "kernelspec": {
   "display_name": "Python 3",
   "language": "python",
   "name": "python3"
  },
  "language_info": {
   "codemirror_mode": {
    "name": "ipython",
    "version": 3
   },
   "file_extension": ".py",
   "mimetype": "text/x-python",
   "name": "python",
   "nbconvert_exporter": "python",
   "pygments_lexer": "ipython3",
   "version": "3.8.5"
  }
 },
 "nbformat": 4,
 "nbformat_minor": 4
}
