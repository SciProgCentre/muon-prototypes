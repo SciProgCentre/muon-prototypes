{
 "cells": [
  {
   "cell_type": "code",
   "execution_count": null,
   "metadata": {},
   "outputs": [],
   "source": [
    "double default_dcs_pair_production(\n",
    "    double Z, double A_, double mass, double K, double q)\n",
    "{\n",
    "/*\n",
    " * Coefficients for the Gaussian quadrature from:\n",
    " * https://pomax.github.io/bezierinfo/legendre-gauss.html.\n",
    " */\n",
    "\n",
    "        "
   ]
  },
  {
   "cell_type": "markdown",
   "metadata": {},
   "source": [
    "### Define Coefficients for the Gaussian quadrature"
   ]
  },
  {
   "cell_type": "code",
   "execution_count": null,
   "metadata": {},
   "outputs": [],
   "source": [
    "#define N_GQ 8\n",
    "        const double xGQ[N_GQ] = { 0.01985507, 0.10166676, 0.2372338,\n",
    "                0.40828268, 0.59171732, 0.7627662, 0.89833324, 0.98014493 };\n",
    "        const double wGQ[N_GQ] = { 0.05061427, 0.11119052, 0.15685332,\n",
    "                0.18134189, 0.18134189, 0.15685332, 0.11119052, 0.05061427 };\n",
    "\n",
    " "
   ]
  },
  {
   "cell_type": "code",
   "execution_count": null,
   "metadata": {},
   "outputs": [],
   "source": [
    "       /*  Check the bounds of the energy transfer. */\n",
    "        if (q <= 4. * ELECTRON_MASS) return 0.;\n",
    "        const double sqrte = 1.6487212707;\n",
    "        const double Z13 = pow(Z, 1. / 3.);\n",
    "        if (q >= K + mass * (1. - 0.75 * sqrte * Z13)) return 0.;\n",
    "\n",
    " "
   ]
  },
  {
   "cell_type": "code",
   "execution_count": null,
   "metadata": {},
   "outputs": [],
   "source": [
    "       /*  Precompute some constant factors for the integration. */\n",
    "        const double nu = q / (K + mass);\n"
   ]
  },
  {
   "cell_type": "code",
   "execution_count": null,
   "metadata": {},
   "outputs": [],
   "source": [
    "        const double r = mass / ELECTRON_MASS;"
   ]
  },
  {
   "cell_type": "markdown",
   "metadata": {},
   "source": [
    "\\begin{equation}\n",
    "$$r = \\frac{M_\\mu}{m_e}\n$$",
    "\\end{equation}"
   ]
  },
  {
   "cell_type": "code",
   "execution_count": null,
   "metadata": {},
   "outputs": [],
   "source": [
    "        const double beta = 0.5 * nu * nu / (1. - nu);\n",
    "        "
   ]
  },
  {
   "cell_type": "markdown",
   "metadata": {},
   "source": [
    "\\begin{equation}\n",
    "\\beta = \\frac{\\nu^{2}}{2(1 - \\nu)}\n",
    "\\end{equation}"
   ]
  },
  {
   "cell_type": "code",
   "execution_count": null,
   "metadata": {},
   "outputs": [],
   "source": [
    "        const double xi_factor = 0.5 * r * r * beta;\n"
   ]
  },
  {
   "cell_type": "markdown",
   "metadata": {},
   "source": [
    "\\begin{equation}\n",
    "\\text{xi_factor} = \\frac{M_\\mu ^{2} \\nu^{2}}{4m_e^{2}(1 - \\nu)}\n",
    "\\end{equation}"
   ]
  },
  {
   "cell_type": "code",
   "execution_count": null,
   "metadata": {},
   "outputs": [],
   "source": [
    "        const double cL = 2. * sqrte * ELECTRON_MASS * AZ13;"
   ]
  },
  {
   "cell_type": "markdown",
   "metadata": {},
   "source": [
    "\\begin{equation}\n",
    "cl = 2\\sqrt{e} m_e \\frac{A}{Z^{1/3}}\n",
    "\\end{equation}"
   ]
  },
  {
   "cell_type": "code",
   "execution_count": null,
   "metadata": {},
   "outputs": [],
   "source": [
    "        const double cLe = 2.25 * Z13 * Z13 / (r * r);"
   ]
  },
  {
   "cell_type": "markdown",
   "metadata": {},
   "source": [
    "\\begin{equation}\n",
    "cle = \\frac{2.25 Z^{2/3}m_e^{2}}{M_\\mu^{2}}\n",
    "\\end{equation}"
   ]
  },
  {
   "cell_type": "code",
   "execution_count": null,
   "metadata": {},
   "outputs": [],
   "source": [
    "       /*  Compute the bound for the integral. */\n",
    "        const double gamma = 1. + K / mass;\n",
    "        const double x0 = 4. * ELECTRON_MASS / q;\n",
    "        const double x1 = 6. / (gamma * (gamma - q / mass));\n",
    "        const double argmin =\n",
    "            (x0 + 2. * (1. - x0) * x1) / (1. + (1. - x1) * sqrt(1. - x0));\n",
    "        if ((argmin >= 1.) || (argmin <= 0.)) return 0.;\n",
    "        const double tmin = log(argmin);\n",
    "\n"
   ]
  },
  {
   "cell_type": "code",
   "execution_count": null,
   "metadata": {},
   "outputs": [],
   "source": [
    "        /*  Compute the integral over t = ln(1-rho). */\n",
    "        double I = 0.;\n",
    "        int i;\n",
    "        for (i = 0; i < 8; i++) {\n",
    "                const double eps = exp(xGQ[i] * tmin);\n",
    "                const double rho = 1. - eps;\n",
    "                const double rho2 = rho * rho;\n",
    "                const double rho21 = eps * (2. - eps);\n",
    "                const double xi = xi_factor * rho21;\n",
    "                const double xi_i = 1. / xi;\n",
    "\n",
    "                /* Compute the e-term. */\n",
    "                double Be;\n",
    "                if (xi >= 1E+03)\n",
    "                        Be =\n",
    "                            0.5 * xi_i * ((3 - rho2) + 2. * beta * (1. + rho2));\n",
    "                else\n",
    "                        Be = ((2. + rho2) * (1. + beta) + xi * (3. + rho2)) *\n",
    "                                log(1. + xi_i) +\n",
    "                            (rho21 - beta) / (1. + xi) - 3. - rho2;\n",
    "                const double Ye = (5. - rho2 + 4. * beta * (1. + rho2)) /\n",
    "                    (2. * (1. + 3. * beta) * log(3. + xi_i) - rho2 -\n",
    "                                      2. * beta * (2. - rho2));\n",
    " "
   ]
  },
  {
   "cell_type": "code",
   "execution_count": null,
   "metadata": {},
   "outputs": [],
   "source": [
    "                const double xe = (1. + xi) * (1. + Ye);                "
   ]
  },
  {
   "cell_type": "markdown",
   "metadata": {},
   "source": [
    "\\begin{equation}\n",
    "xe = (1 + \\xi)(1 + Y_e)\n",
    "\\end{equation}"
   ]
  },
  {
   "cell_type": "code",
   "execution_count": null,
   "metadata": {},
   "outputs": [],
   "source": [
    "                const double cLi = cL / rho21;"
   ]
  },
  {
   "cell_type": "markdown",
   "metadata": {},
   "source": []
  },
  {
   "cell_type": "code",
   "execution_count": null,
   "metadata": {},
   "outputs": [],
   "source": [
    "const double Le = log(AZ13 * sqrt(xe) * q / (q + cLi * xe)) - 0.5 * log(1. + cLe * xe);\n",
    "                "
   ]
  },
  {
   "cell_type": "markdown",
   "metadata": {},
   "source": [
    "\\begin{equation}\n",
    "Le = \\ln(\\frac{}{}) \n",
    "\\end{equation}"
   ]
  },
  {
   "cell_type": "code",
   "execution_count": null,
   "metadata": {},
   "outputs": [],
   "source": [
    "                double Phi_e = Be * Le;\n",
    "                if (Phi_e < 0.) Phi_e = 0.;\n",
    "\n",
    "                /* Compute the mu-term. */\n",
    "                double Bmu;\n",
    "                if (xi <= 1E-03)\n",
    "                        Bmu = 0.5 * xi * (5. - rho2 + beta * (3. + rho2));\n",
    "                else\n",
    "                        Bmu = ((1. + rho2) * (1. + 1.5 * beta) -\n",
    "                                  xi_i * (1. + 2. * beta) * rho21) *\n",
    "                                log(1. + xi) +\n",
    "                            xi * (rho21 - beta) / (1. + xi) +\n",
    "                            (1. + 2. * beta) * rho21;\n",
    "                const double Ymu = (4. + rho2 + 3. * beta * (1. + rho2)) /\n",
    "                    ((1. + rho2) * (1.5 + 2. * beta) * log(3. + xi) + 1. -\n",
    "                                       1.5 * rho2);\n",
    "                const double xmu = (1. + xi) * (1. + Ymu);\n",
    "                const double Lmu =\n",
    "                    log(r * AZ13 * q / (1.5 * Z13 * (q + cLi * xmu)));\n",
    "                double Phi_mu = Bmu * Lmu;\n",
    "                if (Phi_mu < 0.) Phi_mu = 0.;\n",
    "\n",
    "                /* Update the t-integral. */\n",
    "                I -= (Phi_e + Phi_mu / (r * r)) * (1. - rho) * wGQ[i] * tmin;\n",
    "        }"
   ]
  },
  {
   "cell_type": "markdown",
   "metadata": {},
   "source": [
    "### Atomic electrons form factor.\n",
    "ζ(Z) ≈ 1 takes into account the pair production in collisions with\n",
    "electrons. "
   ]
  },
  {
   "cell_type": "code",
   "execution_count": null,
   "metadata": {},
   "outputs": [],
   "source": [
    "        double zeta;\n",
    "        if (gamma <= 35.)\n",
    "                zeta = 0.;\n",
    "        else {\n",
    "                double gamma1, gamma2;\n",
    "                if (Z == 1.) {\n",
    "                        gamma1 = 4.4E-05;\n",
    "                        gamma2 = 4.8E-05;\n",
    "                } else {\n",
    "                        gamma1 = 1.95E-05;\n",
    "                        gamma2 = 5.30E-05;\n",
    "                }\n",
    "                zeta = 0.073 * log(gamma / (1. + gamma1 * gamma * Z13 * Z13)) -\n",
    "                    0.26;\n",
    "                if (zeta <= 0.)\n",
    "                        zeta = 0.;\n",
    "                else {\n",
    "                        zeta /=\n",
    "                            0.058 * log(gamma / (1. + gamma2 * gamma * Z13)) -\n",
    "                            0.14;\n",
    "                }\n",
    "        }\n"
   ]
  },
  {
   "cell_type": "markdown",
   "metadata": {},
   "source": [
    "### Gather the results and return the macroscopic DCS.\n",
    "\n",
    "The full muon's energy\n"
   ]
  },
  {
   "cell_type": "code",
   "execution_count": null,
   "metadata": {},
   "outputs": [],
   "source": [
    "        const double E = K + mass; "
   ]
  },
  {
   "cell_type": "code",
   "execution_count": null,
   "metadata": {},
   "outputs": [],
   "source": [
    "        const double dcs = 1.794664E-34 * Z * (Z + zeta) * (E - q) * I /(q * E);"
   ]
  },
  {
   "cell_type": "markdown",
   "metadata": {},
   "source": [
    "\\begin{equation}\n",
    "\\frac{\\text{d}\\sigma^{p}}{\\text{d}\\nu}(E, \\nu) = \\alpha^{2} \\frac{4}{3\\pi} r_e^{2} Z(Z + \\xi(Z))(\\frac{1 - \\nu}{E\\nu}) \\int_{p}[\\Phi_e + (m_e/M_\\mu)^{2}\\Phi_\\mu]dp\n",
    "\\end{equation}"
   ]
  },
  {
   "cell_type": "markdown",
   "metadata": {},
   "source": [
    "re = 2.8179403262e-15m - Classical electron radius\n",
    "\n",
    "𝛼=0.0072973525628(6)−fine structure constant\n",
    "\n",
    "\\begin{equation}\n",
    "\\alpha^{2} \\frac{4}{3\\pi} r_e^{2} = 1.7946638150444265e-34\n",
    "\\end{equation}"
   ]
  },
  {
   "cell_type": "code",
   "execution_count": 11,
   "metadata": {},
   "outputs": [
    {
     "name": "stdout",
     "output_type": "stream",
     "text": [
      "1.7946638150444265e-34\n",
      "1.0000001030586185\n"
     ]
    }
   ],
   "source": [
    "import numpy as np\n",
    "re =  2.8179403262E-15\n",
    "a = 0.0072973525628\n",
    "res = 1.794664E-34\n",
    "out = (4*a*a*re*re)/(3*np.pi)\n",
    "print(out)\n",
    "print(res/out)"
   ]
  },
  {
   "cell_type": "markdown",
   "metadata": {},
   "source": [
    "\\begin{equation}\n",
    "\\nu = \\frac{q}{E}\n",
    "\\end{equation}"
   ]
  },
  {
   "cell_type": "markdown",
   "metadata": {},
   "source": [
    "\\begin{equation}\n",
    "\\frac{\\text{d}\\sigma^{p}}{\\text{d}\\nu}(E, \\nu) = \\alpha^{2} \\frac{4}{3\\pi} r_e^{2} Z(Z + \\xi(Z))(\\frac{E - q}{Eq}) \\int_{p}[\\Phi_e + (m_e/M_\\mu)^{2}\\Phi_\\mu]dp\n",
    "\\end{equation}"
   ]
  },
  {
   "cell_type": "code",
   "execution_count": null,
   "metadata": {},
   "outputs": [],
   "source": [
    "        return (dcs < 0.) ? 0. : dcs;"
   ]
  }
 ],
 "metadata": {
  "kernelspec": {
   "display_name": "Python 3",
   "language": "python",
   "name": "python3"
  },
  "language_info": {
   "codemirror_mode": {
    "name": "ipython",
    "version": 3
   },
   "file_extension": ".py",
   "mimetype": "text/x-python",
   "name": "python",
   "nbconvert_exporter": "python",
   "pygments_lexer": "ipython3",
   "version": "3.8.5"
  }
 },
 "nbformat": 4,
 "nbformat_minor": 4
}
