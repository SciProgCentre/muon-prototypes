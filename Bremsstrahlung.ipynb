{
 "cells": [
  {
   "cell_type": "markdown",
   "metadata": {},
   "source": [
    "## The differtial cross section calculation\n"
   ]
  },
  {
   "cell_type": "markdown",
   "metadata": {},
   "source": [
    "\\begin{equation}\n",
    "\\frac{\\text{d}\\sigma}{\\text{d}\\nu} = \\left.\\frac{\\text{d}\\sigma}{\\text{d}\\nu}\\right|_\\text{brems, elec} + \\left.\\frac{\\text{d}\\sigma}{\\text{d}\\nu}\\right|_\\text{brems, nucl}\n",
    "\\end{equation}"
   ]
  },
  {
   "cell_type": "markdown",
   "metadata": {},
   "source": [
    "The differential cross section for muon bremsstrahlung from a (screened) nucleus is used for the present paper:"
   ]
  },
  {
   "cell_type": "markdown",
   "metadata": {},
   "source": [
    "\\begin{equation}\n",
    "\\left.\\frac{\\text{d}\\sigma}{\\text{d}\\nu}\\right|_\\text{brems, nucl} = \\alpha(2Z\\frac{m_e}{M_\\mu})^{2}(\\frac{4}{3}(\\frac{1}{\\nu} - 1) + \\nu)\\Phi_n(\\delta)\n",
    "\\end{equation}"
   ]
  },
  {
   "cell_type": "markdown",
   "metadata": {},
   "source": [
    "To account for bremsstrahlung losses on atomic electrons. Approximation for the contribution from electrons, taking into account electronic binding and recoil, is "
   ]
  },
  {
   "cell_type": "markdown",
   "metadata": {},
   "source": [
    "\\begin{equation}\n",
    "\\left.\\frac{\\text{d}\\sigma}{\\text{d}\\nu}\\right|_\\text{brems, elec} = \\alpha Z(2\\frac{m_e}{M_\\mu})^{2}(\\frac{4}{3}(\\frac{1}{\\nu} - 1) + \\nu)\\Phi_\\text{in}(\\delta)\n",
    "\\end{equation}"
   ]
  },
  {
   "cell_type": "markdown",
   "metadata": {},
   "source": [
    "\\begin{equation}\n",
    "\\frac{\\text{d}\\sigma}{\\text{d}\\nu} = \\alpha Z(2\\frac{m_e}{M_\\mu})^{2}(\\frac{4}{3}(\\frac{1}{\\nu} - 1) + \\nu)(\\Phi_\\text{in}(\\delta) + Z\\Phi_n(\\delta) )\n",
    "\\end{equation}\n",
    " \n",
    "Here $\\nu$ is the fraction of the muon's energy transferred to the photon, and \n"
   ]
  },
  {
   "cell_type": "markdown",
   "metadata": {},
   "source": [
    "\\begin{equation}\n",
    "\\Phi_n(\\delta) = \\ln(\\frac{BZ^{\\frac{-1}{3}}(M_\\mu + \\delta(D_n\\sqrt{e} - 2))}{(m_e + \\delta \\sqrt{e}BZ^{\\frac{-1}{3}})D_n}\n",
    "\\end{equation}"
   ]
  },
  {
   "cell_type": "markdown",
   "metadata": {},
   "source": [
    "\\begin{equation}\n",
    "\\Phi_\\text{in}(\\delta) = \\ln(\\frac{M_\\mu BZ^{-2/3} \\sqrt{e}}{(m_e + \\delta  BZ^{-2/3} \\sqrt{e})(\\frac{M_\\mu \\delta}{m_e^{2}} + \\sqrt{e})})\n",
    "\\end{equation}"
   ]
  },
  {
   "cell_type": "code",
   "execution_count": null,
   "metadata": {},
   "outputs": [],
   "source": [
    "me = 0.511e-3 #Electron mass in GeV\n",
    "sqrte = 1.648721271"
   ]
  },
  {
   "cell_type": "code",
   "execution_count": null,
   "metadata": {},
   "outputs": [],
   "source": [
    "phie_factor = mu / (me * me * sqrte)  # mu - The projectile rest mass, in GeV (Muon mass)"
   ]
  },
  {
   "cell_type": "markdown",
   "metadata": {},
   "source": [
    "\\begin{equation}\n",
    "\\phi_\\text{factor} = \\frac{M_\\mu}{m_e^{2}\\sqrt{e}}\n",
    "\\end{equation}"
   ]
  },
  {
   "cell_type": "code",
   "execution_count": null,
   "metadata": {},
   "outputs": [],
   "source": [
    "rem = 5.63588E-13 * me / mu"
   ]
  },
  {
   "cell_type": "markdown",
   "metadata": {},
   "source": [
    "re = 2.8179403262e-15m - Classical electron radius\n",
    "\\begin{equation}\n",
    "rem = 2r_e\\frac{m_e}{M_\\mu}\n",
    "\\end{equation}\n",
    "\n",
    "$M_\\mu - \\text{Muon mass in GeV}$"
   ]
  },
  {
   "cell_type": "code",
   "execution_count": null,
   "metadata": {},
   "outputs": [],
   "source": [
    "\n",
    "BZ_n = (202.4 if Z == 1 else 182.7) * pow(Z, -1. / 3.)\n",
    "BZ_e = (446.0 if Z == 1 else 1429.0) * pow(Z, -2. / 3.)\n",
    "D_n = 1.54 * pow(A, 0.27)\n",
    "E = K + mu\n"
   ]
  },
  {
   "cell_type": "code",
   "execution_count": null,
   "metadata": {},
   "outputs": [],
   "source": [
    "dcs_factor = 7.297182E-07 * rem * rem * Z / E "
   ]
  },
  {
   "cell_type": "markdown",
   "metadata": {},
   "source": [
    "<font color='red'>Attention!</font>"
   ]
  },
  {
   "cell_type": "markdown",
   "metadata": {},
   "source": [
    "\\begin{equation}\n",
    "\\text{dcs_factor} = \\alpha Z (2r_e\\frac{m_e}{M_\\mu})^{2}\n",
    "\\end{equation}\n",
    "\n",
    "$\\alpha = 0.0072973525628(6) - \\text{fine structure constant}$"
   ]
  },
  {
   "cell_type": "code",
   "execution_count": null,
   "metadata": {},
   "outputs": [],
   "source": [
    "delta_factor = 0.5 * mu * mu / E\n",
    "qe_max = E / (1. + 0.5 * mu * mu / (me * E))\n",
    "\n",
    "nu = q / E"
   ]
  },
  {
   "cell_type": "code",
   "execution_count": null,
   "metadata": {},
   "outputs": [],
   "source": [
    "delta = delta_factor * nu / (1. - nu)"
   ]
  },
  {
   "cell_type": "markdown",
   "metadata": {},
   "source": [
    "\\begin{equation}\n",
    "\\delta = \\frac{M_\\mu^{2}\\nu}{2E(1 - \\nu)}\n",
    "\\end{equation}"
   ]
  },
  {
   "cell_type": "code",
   "execution_count": null,
   "metadata": {},
   "outputs": [],
   "source": [
    "Phi_e = 0.0"
   ]
  },
  {
   "cell_type": "code",
   "execution_count": null,
   "metadata": {},
   "outputs": [],
   "source": [
    "Phi_n = math.log(BZ_n * (mu + delta * (D_n * sqrte - 2.)) / (D_n * (me + delta * sqrte * BZ_n)))"
   ]
  },
  {
   "cell_type": "markdown",
   "metadata": {},
   "source": [
    "\\begin{equation}\n",
    "\\Phi_n(\\delta) = \\ln(\\frac{BZ^{\\frac{-1}{3}}(M_\\mu + \\delta(D_n\\sqrt{e} - 2))}{(m_e + \\delta \\sqrt{e}BZ^{\\frac{-1}{3}})D_n}\n",
    "\\end{equation}"
   ]
  },
  {
   "cell_type": "code",
   "execution_count": null,
   "metadata": {},
   "outputs": [],
   "source": [
    "if Phi_n < 0.0:\n",
    "    Phi_n = 0.0\n",
    "if q < qe_max:\n",
    "    Phi_e = math.log(BZ_e * mu / ((1. + delta * phie_factor) * (me + delta * sqrte * BZ_e)))        \n",
    "    if (Phi_e < 0.):\n",
    "            Phi_e = 0.0\n",
    "else:\n",
    "    Phi_e = 0.0"
   ]
  },
  {
   "cell_type": "markdown",
   "metadata": {},
   "source": [
    "Phi_e:\n",
    "\\begin{equation}\n",
    "\\Phi_\\text{in}(\\delta) = \\ln(\\frac{M_\\mu BZ^{-2/3} \\sqrt{e}}{(m_e + \\delta  BZ^{-2/3} \\sqrt{e})(\\frac{M_\\mu \\delta}{m_e^{2}} + \\sqrt{e})})\n",
    "\\end{equation}"
   ]
  },
  {
   "cell_type": "markdown",
   "metadata": {},
   "source": [
    "\\begin{equation}\n",
    "\\Phi_\\text{in}(\\delta) = \\ln(\\frac{M_\\mu BZ^{-2/3} }{(m_e + \\delta  BZ^{-2/3} \\sqrt{e})(\\frac{M_\\mu \\delta}{m_e^{2}\\sqrt{e}} + 1)})\n",
    "\\end{equation}"
   ]
  },
  {
   "cell_type": "markdown",
   "metadata": {},
   "source": [
    "\\begin{equation}\n",
    "\\Phi_\\text{in}(\\delta) = \\ln(\\frac{M_\\mu BZ^{-2/3} }{(m_e + \\delta  BZ^{-2/3} \\sqrt{e})(\\phi_\\text{factor} \\delta + 1)})\n",
    "\\end{equation}"
   ]
  },
  {
   "cell_type": "code",
   "execution_count": null,
   "metadata": {},
   "outputs": [],
   "source": [
    "dcs = dcs_factor * (Z * Phi_n + Phi_e) * (4. / 3. * (1. / nu - 1.) + nu)\n"
   ]
  },
  {
   "cell_type": "markdown",
   "metadata": {},
   "source": [
    "\\begin{equation}\n",
    "\\frac{\\text{d}\\sigma}{\\text{d}\\nu} = \\alpha Z(2\\frac{m_e}{M_\\mu})^{2}(\\frac{4}{3}(\\frac{1}{\\nu} - 1) + \\nu)(\\Phi_\\text{in}(\\delta) + Z\\Phi_n(\\delta) )\n",
    "\\end{equation}"
   ]
  },
  {
   "cell_type": "code",
   "execution_count": null,
   "metadata": {},
   "outputs": [],
   "source": [
    "return 0.0 if dcs < 0.0 else dcs * 1E+3 * double(AVOGADRO_NUMBER) * (mu + K) / A #The differential cross section in m^2/kg."
   ]
  }
 ],
 "metadata": {
  "kernelspec": {
   "display_name": "Python 3",
   "language": "python",
   "name": "python3"
  },
  "language_info": {
   "codemirror_mode": {
    "name": "ipython",
    "version": 3
   },
   "file_extension": ".py",
   "mimetype": "text/x-python",
   "name": "python",
   "nbconvert_exporter": "python",
   "pygments_lexer": "ipython3",
   "version": "3.8.5"
  }
 },
 "nbformat": 4,
 "nbformat_minor": 5
}
