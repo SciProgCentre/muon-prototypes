{
 "cells": [
  {
   "cell_type": "markdown",
   "metadata": {},
   "source": [
    "# Bremsstrahlung\n"
   ]
  },
  {
   "cell_type": "markdown",
   "metadata": {},
   "source": [
    "Input:\n",
    "   * double Z - The charge number of the target atom.\n",
    "   * double A - The mass number of the target atom, in g/mol\n",
    "   * double mass - The projectile rest mass, in GeV\n",
    "   * double K - The projectile initial kinetic energy.\n",
    "   * double q - The kinetic energy lost to the photon.\n",
    "   \n",
    "\n",
    "Output:\n",
    "    DCS in m^2/kg."
   ]
  },
  {
   "cell_type": "markdown",
   "metadata": {},
   "source": [
    "### Definitions and Applicability\n",
    "\n",
    "Theory from: https://pdg.lbl.gov/2014/AtomicNuclearProperties/adndt.pdf. "
   ]
  },
  {
   "cell_type": "markdown",
   "metadata": {},
   "source": [
    "\\begin{equation}\n",
    "\\frac{\\text{d}\\sigma}{\\text{d}\\nu} = \\left.\\frac{\\text{d}\\sigma}{\\text{d}\\nu}\\right|_\\text{brems, elec} + \\left.\\frac{\\text{d}\\sigma}{\\text{d}\\nu}\\right|_\\text{brems, nucl}\n",
    "\\end{equation}"
   ]
  },
  {
   "cell_type": "markdown",
   "metadata": {},
   "source": [
    "The differential cross section for muon bremsstrahlung from a (screened) nucleus is used for the present paper:"
   ]
  },
  {
   "cell_type": "markdown",
   "metadata": {},
   "source": [
    "\\begin{equation}\n",
    "\\left.\\frac{\\text{d}\\sigma}{\\text{d}\\nu}\\right|_\\text{brems, nucl} = \\alpha(2Z\\frac{m_e}{M_\\mu})^{2}(\\frac{4}{3}(\\frac{1}{\\nu} - 1) + \\nu)\\Phi_n(\\delta)\n",
    "\\end{equation}"
   ]
  },
  {
   "cell_type": "markdown",
   "metadata": {},
   "source": [
    "To account for bremsstrahlung losses on atomic electrons. Approximation for the contribution from electrons, taking into account electronic binding and recoil, is "
   ]
  },
  {
   "cell_type": "markdown",
   "metadata": {},
   "source": [
    "\\begin{equation}\n",
    "\\left.\\frac{\\text{d}\\sigma}{\\text{d}\\nu}\\right|_\\text{brems, elec} = \\alpha Z(2\\frac{m_e}{M_\\mu})^{2}(\\frac{4}{3}(\\frac{1}{\\nu} - 1) + \\nu)\\Phi_\\text{in}(\\delta)\n",
    "\\end{equation}"
   ]
  },
  {
   "cell_type": "markdown",
   "metadata": {},
   "source": [
    "\\begin{equation}\n",
    "\\frac{\\text{d}\\sigma}{\\text{d}\\nu} = \\alpha Z(2\\frac{m_e}{M_\\mu})^{2}(\\frac{4}{3}(\\frac{1}{\\nu} - 1) + \\nu)(\\Phi_\\text{in}(\\delta) + Z\\Phi_n(\\delta) )\n",
    "\\end{equation}\n",
    " \n",
    "Here $\\nu = \\frac{q}{E}$ is the fraction of the muon's energy transferred to the photon, and \n"
   ]
  },
  {
   "cell_type": "markdown",
   "metadata": {},
   "source": [
    "\\begin{equation}\n",
    "\\Phi(\\delta) = \\ln(\\frac{BZ^{\\frac{-1}{3}}(M_\\mu + \\delta(D_n\\sqrt{e} - 2))}{(m_e + \\delta \\sqrt{e}BZ^{\\frac{-1}{3}})D_n},\n",
    "\\end{equation}\n"
   ]
  },
  {
   "cell_type": "markdown",
   "metadata": {},
   "source": [
    "where $D_n = 1.54A^{0.27}$ , $B = 182.7$ ($B = 202.4$ for hygrogen), $e = 2.7181...$ and"
   ]
  },
  {
   "cell_type": "markdown",
   "metadata": {},
   "source": [
    "\\begin{equation}\n",
    "\\delta = \\frac{M_\\mu^{2}\\nu}{2E(1 - \\nu)}\n",
    "\\end{equation}"
   ]
  },
  {
   "cell_type": "markdown",
   "metadata": {},
   "source": [
    "\\begin{equation}\n",
    "\\Phi_\\text{in}(\\delta) = \\ln(\\frac{M_\\mu BZ^{-2/3} \\sqrt{e}}{(m_e + \\delta  BZ^{-2/3} \\sqrt{e})(\\frac{M_\\mu \\delta}{m_e^{2}} + \\sqrt{e})}),\n",
    "\\end{equation}"
   ]
  },
  {
   "cell_type": "markdown",
   "metadata": {},
   "source": [
    "where $B = 1429$ for all elements but hydrogen, where $B = 446$"
   ]
  },
  {
   "cell_type": "markdown",
   "metadata": {},
   "source": [
    "For our calculations we use differential cross section, as \n",
    "\\begin{equation}\n",
    "\\frac{\\text{d} \\sigma}{\\text{d} q} = \\frac{\\text{d}\\sigma}{\\text{d}\\nu E}\n",
    "\\end{equation}\n",
    "This formula takes the form:\n",
    "\\begin{equation}\n",
    "\\frac{\\text{d}\\sigma}{\\text{d}q} = \\frac{\\alpha Z}{E}(2\\frac{m_e}{M_\\mu})^{2}(\\frac{4}{3}(\\frac{1}{\\nu} - 1) + \\nu)(\\Phi_\\text{in}(\\delta) + Z\\Phi_n(\\delta) )\n",
    "\\end{equation}\n",
    "But, this DCS in $\\frac{m^2}{Gev}$. We need to multiply by Avogadro's number, energy and divide by the mass number of the target atom to get DCS in $\\frac{m^2}{kg}$.\n",
    "\n",
    "The final formula:\n",
    "\\begin{equation}\n",
    "\\frac{\\text{d}\\sigma}{\\text{d}q} = \\frac{\\alpha Z}{E}(2\\frac{m_e}{M_\\mu})^{2}(\\frac{4}{3}(\\frac{1}{\\nu} - 1) + \\nu)(\\Phi_\\text{in}(\\delta) + Z\\Phi_n(\\delta) ) \\frac{N_a E}{A}\n",
    "\\end{equation}\n",
    "\n",
    "And take into account, that A in g/mol\n",
    "\n",
    "\\begin{equation}\n",
    "\\frac{\\text{d}\\sigma}{\\text{d}q} = \\frac{\\alpha Z}{E}(2\\frac{m_e}{M_\\mu})^{2}(\\frac{4}{3}(\\frac{1}{\\nu} - 1) + \\nu)(\\Phi_\\text{in}(\\delta) + Z\\Phi_n(\\delta) ) \\frac{1000 N_a E}{A}\n",
    "\\end{equation}"
   ]
  },
  {
   "cell_type": "code",
   "execution_count": null,
   "metadata": {},
   "outputs": [],
   "source": [
    "me = 0.511e-3 #Electron mass in GeV\n",
    "sqrte = 1.648721271"
   ]
  },
  {
   "cell_type": "markdown",
   "metadata": {},
   "source": [
    "$\\sqrt{e}$"
   ]
  },
  {
   "cell_type": "code",
   "execution_count": null,
   "metadata": {},
   "outputs": [],
   "source": [
    "phie_factor = mu / (me * me * sqrte)  # mu - The projectile rest mass, in GeV (Muon mass) #Gev^{-1}"
   ]
  },
  {
   "cell_type": "markdown",
   "metadata": {},
   "source": [
    "\\begin{equation}\n",
    "\\phi_\\text{factor} = \\frac{M_\\mu}{m_e^{2}\\sqrt{e}}\n",
    "\\end{equation}"
   ]
  },
  {
   "cell_type": "code",
   "execution_count": null,
   "metadata": {},
   "outputs": [],
   "source": [
    "rem = 5.63588E-13 * me / mu # m"
   ]
  },
  {
   "cell_type": "markdown",
   "metadata": {},
   "source": [
    "\\begin{equation}\n",
    "rem = 2r_e\\frac{m_e}{M_\\mu}\n",
    "\\end{equation}\n",
    "\n",
    "$r_e = 2.8179403262 * 10^{-15} m$ - classical electron radius\n",
    "\n",
    "$M_\\mu$ - muon mass in GeV"
   ]
  },
  {
   "cell_type": "code",
   "execution_count": null,
   "metadata": {},
   "outputs": [],
   "source": [
    "BZ_n = (202.4 if Z == 1 else 182.7) * pow(Z, -1. / 3.)\n",
    "BZ_e = (446.0 if Z == 1 else 1429.0) * pow(Z, -2. / 3.)\n",
    "D_n = 1.54 * pow(A, 0.27)\n",
    "E = K + mu"
   ]
  },
  {
   "cell_type": "code",
   "execution_count": null,
   "metadata": {},
   "outputs": [],
   "source": [
    "dcs_factor = 7.297182E-07 * rem * rem * Z / E  # m^2 or m^2/GeV"
   ]
  },
  {
   "cell_type": "markdown",
   "metadata": {},
   "source": [
    "\\begin{equation}\n",
    "\\text{dcs_factor} = \\frac{\\alpha Z}{E} (2r_e\\frac{m_e}{M_\\mu})^{2}\n",
    "\\end{equation}\n",
    "\n",
    "$\\alpha = 0.0072973525628(6)$ - fine structure constant"
   ]
  },
  {
   "cell_type": "code",
   "execution_count": null,
   "metadata": {},
   "outputs": [],
   "source": [
    "delta_factor = 0.5 * mu * mu / E #GeV"
   ]
  },
  {
   "cell_type": "code",
   "execution_count": null,
   "metadata": {},
   "outputs": [],
   "source": [
    "qe_max = E / (1. + 0.5 * mu * mu / (me * E)) #GeV"
   ]
  },
  {
   "cell_type": "markdown",
   "metadata": {},
   "source": [
    "\\begin{equation}\n",
    "qe_\\text{max} = \\frac{E}{1 + \\frac{M_\\mu^2}{2m_eE}}\n",
    "\\end{equation}"
   ]
  },
  {
   "cell_type": "code",
   "execution_count": null,
   "metadata": {},
   "outputs": [],
   "source": [
    "nu = q / E"
   ]
  },
  {
   "cell_type": "code",
   "execution_count": null,
   "metadata": {},
   "outputs": [],
   "source": [
    "delta = delta_factor * nu / (1. - nu) #GeV"
   ]
  },
  {
   "cell_type": "markdown",
   "metadata": {},
   "source": [
    "\\begin{equation}\n",
    "\\delta = \\frac{M_\\mu^{2}\\nu}{2E(1 - \\nu)}\n",
    "\\end{equation}"
   ]
  },
  {
   "cell_type": "code",
   "execution_count": null,
   "metadata": {},
   "outputs": [],
   "source": [
    "Phi_e = 0.0"
   ]
  },
  {
   "cell_type": "code",
   "execution_count": null,
   "metadata": {},
   "outputs": [],
   "source": [
    "Phi_n = math.log(BZ_n * (mu + delta * (D_n * sqrte - 2.)) / (D_n * (me + delta * sqrte * BZ_n)))"
   ]
  },
  {
   "cell_type": "markdown",
   "metadata": {},
   "source": [
    "\\begin{equation}\n",
    "\\Phi_n(\\delta) = \\ln(\\frac{BZ^{\\frac{-1}{3}}(M_\\mu + \\delta(D_n\\sqrt{e} - 2))}{(m_e + \\delta \\sqrt{e}BZ^{\\frac{-1}{3}})D_n}\n",
    "\\end{equation}"
   ]
  },
  {
   "cell_type": "code",
   "execution_count": null,
   "metadata": {},
   "outputs": [],
   "source": [
    "if Phi_n < 0.0:\n",
    "    Phi_n = 0.0\n",
    "if q < qe_max:\n",
    "    Phi_e = math.log(BZ_e * mu / ((1. + delta * phie_factor) * (me + delta * sqrte * BZ_e)))        \n",
    "    if (Phi_e < 0.):\n",
    "            Phi_e = 0.0\n",
    "else:\n",
    "    Phi_e = 0.0"
   ]
  },
  {
   "cell_type": "markdown",
   "metadata": {},
   "source": [
    "Phi_e:\n",
    "\\begin{equation}\n",
    "\\Phi_\\text{in}(\\delta) = \\ln(\\frac{M_\\mu BZ^{-2/3} \\sqrt{e}}{(m_e + \\delta  BZ^{-2/3} \\sqrt{e})(\\frac{M_\\mu \\delta}{m_e^{2}} + \\sqrt{e})})\n",
    "\\end{equation}"
   ]
  },
  {
   "cell_type": "markdown",
   "metadata": {},
   "source": [
    "\\begin{equation}\n",
    "\\Phi_\\text{in}(\\delta) = \\ln(\\frac{M_\\mu BZ^{-2/3} }{(m_e + \\delta  BZ^{-2/3} \\sqrt{e})(\\frac{M_\\mu \\delta}{m_e^{2}\\sqrt{e}} + 1)})\n",
    "\\end{equation}"
   ]
  },
  {
   "cell_type": "markdown",
   "metadata": {},
   "source": [
    "\\begin{equation}\n",
    "\\Phi_\\text{in}(\\delta) = \\ln(\\frac{M_\\mu BZ^{-2/3} }{(m_e + \\delta  BZ^{-2/3} \\sqrt{e})(\\phi_\\text{factor} \\delta + 1)})\n",
    "\\end{equation}"
   ]
  },
  {
   "cell_type": "code",
   "execution_count": null,
   "metadata": {},
   "outputs": [],
   "source": [
    "dcs = dcs_factor * (Z * Phi_n + Phi_e) * (4. / 3. * (1. / nu - 1.) + nu)\n"
   ]
  },
  {
   "cell_type": "markdown",
   "metadata": {},
   "source": [
    "\\begin{equation}\n",
    "\\frac{\\text{d}\\sigma}{\\text{d}q} = \\frac{\\alpha Z}{E}(2\\frac{m_e}{M_\\mu})^{2}(\\frac{4}{3}(\\frac{1}{\\nu} - 1) + \\nu)(\\Phi_\\text{in}(\\delta) + Z\\Phi_n(\\delta) )\n",
    "\\end{equation}"
   ]
  },
  {
   "cell_type": "code",
   "execution_count": null,
   "metadata": {},
   "outputs": [],
   "source": [
    "return 0.0 if dcs < 0.0 else dcs * 1E+3 * double(AVOGADRO_NUMBER) * (mu + K) / A #The differential cross section in m^2/kg."
   ]
  },
  {
   "cell_type": "markdown",
   "metadata": {},
   "source": [
    "\\begin{equation}\n",
    "\\frac{\\text{d}\\sigma}{\\text{d}q} = \\frac{\\alpha Z}{E}(2\\frac{m_e}{M_\\mu})^{2}(\\frac{4}{3}(\\frac{1}{\\nu} - 1) + \\nu)(\\Phi_\\text{in}(\\delta) + Z\\Phi_n(\\delta) ) \\frac{1000 N_a E}{A}\n",
    "\\end{equation}"
   ]
  },
  {
   "cell_type": "markdown",
   "metadata": {},
   "source": [
    "### Usage example"
   ]
  },
  {
   "cell_type": "code",
   "execution_count": 2,
   "metadata": {},
   "outputs": [
    {
     "data": {
      "image/png": "[encoded data removed]",
      "text/plain": [
       "<Figure size 1440x720 with 1 Axes>"
      ]
     },
     "metadata": {
      "needs_background": "light"
     },
     "output_type": "display_data"
    }
   ],
   "source": [
    "import constants\n",
    "import math\n",
    "from numba import njit, double, int32\n",
    "\n",
    "\n",
    "\n",
    "@njit(double(double, double, double, int32, double))\n",
    "def bremsstrahlung(K, q, A, Z, mu):\n",
    "    me = constants.ELECTRON_MASS\n",
    "    sqrte = 1.648721271\n",
    "    phie_factor = mu / (me * me * sqrte)\n",
    "    rem = 5.63588E-13 * me / mu\n",
    "\n",
    "    BZ_n = (202.4 if Z == 1 else 182.7) * pow(Z, -1. / 3.)\n",
    "    BZ_e = (446.0 if Z == 1 else 1429.0) * pow(Z, -2. / 3.)\n",
    "    D_n = 1.54 * pow(A, 0.27)\n",
    "    E = K + mu\n",
    "    dcs_factor = 7.297182E-07 * rem * rem * Z / E\n",
    "\n",
    "    delta_factor = 0.5 * mu * mu / E\n",
    "    qe_max = E / (1. + 0.5 * mu * mu / (me * E))\n",
    "\n",
    "    nu = q / E\n",
    "    delta = delta_factor * nu / (1. - nu)\n",
    "    Phi_e = 0.0\n",
    "    Phi_n = math.log(BZ_n * (mu + delta * (D_n * sqrte - 2.)) / (D_n * (me + delta * sqrte * BZ_n)))\n",
    "    if Phi_n < 0.0:\n",
    "        Phi_n = 0.0\n",
    "    if q < qe_max:\n",
    "        Phi_e = math.log(BZ_e * mu / ((1. + delta * phie_factor) * (me + delta * sqrte * BZ_e)))\n",
    "        if (Phi_e < 0.):\n",
    "            Phi_e = 0.0\n",
    "    else:\n",
    "        Phi_e = 0.0\n",
    "\n",
    "    dcs = dcs_factor * (Z * Phi_n + Phi_e) * (4. / 3. * (1. / nu - 1.) + nu)\n",
    "    return 0.0 if dcs < 0.0 else dcs * 1E+3 * double(constants.AVOGADRO_NUMBER) * (mu + K) / A\n",
    "\n",
    "\n",
    "@njit('(float64[:], float64[:], float64[:], float64, int32, float64)')\n",
    "def _vmap_bremsstrahlung(\n",
    "        result,\n",
    "        kinetic_energies,\n",
    "        recoil_energies,\n",
    "        atomic_mass,\n",
    "        atomic_number,\n",
    "        particle_mass):\n",
    "    n = result.shape[0]\n",
    "    for i in range(n):\n",
    "        result[i] = bremsstrahlung(\n",
    "            kinetic_energies[i],\n",
    "            recoil_energies[i],\n",
    "            atomic_mass,\n",
    "            atomic_number,\n",
    "            particle_mass)\n",
    "    return result\n",
    "\n",
    "\n",
    "def vmap_bremsstrahlung(\n",
    "        kinetic_energies,\n",
    "        recoil_energies,\n",
    "        atomic_mass,\n",
    "        atomic_number,\n",
    "        particle_mass):\n",
    "    result = torch.zeros_like(kinetic_energies)\n",
    "    _vmap_bremsstrahlung(\n",
    "        result.numpy(),\n",
    "        kinetic_energies.numpy(),\n",
    "        recoil_energies.numpy(),\n",
    "        atomic_mass,\n",
    "        atomic_number,\n",
    "        particle_mass)\n",
    "    return result\n",
    "\n",
    "import numpy as np\n",
    "import matplotlib.pyplot as plt\n",
    "E = 2\n",
    "sample = 1500\n",
    "X = []\n",
    "Y = []\n",
    "for i in range(sample):\n",
    "    x = 0.05 + i*(1 - 0.05)/sample;\n",
    "    y = bremsstrahlung(1, x, 22, 11, 0.10565839)\n",
    "    X.append(x)\n",
    "    Y.append(y)\n",
    "    \n",
    "\n",
    "fig, ax = plt.subplots()\n",
    "ax.plot(X, Y, '.C3')    \n",
    "plt.xlim([0.,0.4])\n",
    "\n",
    "ax.set_xlabel('The kinetic energy lost to the photon, GeV', fontsize = 20)\n",
    "ax.set_ylabel('DCS, m^2/kg', fontsize = 20)\n",
    "\n",
    "fig.set_figwidth(20)\n",
    "fig.set_figheight(10)\n",
    "    \n",
    "plt.show()   "
   ]
  }
 ],
 "metadata": {
  "kernelspec": {
   "display_name": "Python 3",
   "language": "python",
   "name": "python3"
  },
  "language_info": {
   "codemirror_mode": {
    "name": "ipython",
    "version": 3
   },
   "file_extension": ".py",
   "mimetype": "text/x-python",
   "name": "python",
   "nbconvert_exporter": "python",
   "pygments_lexer": "ipython3",
   "version": "3.8.5"
  }
 },
 "nbformat": 4,
 "nbformat_minor": 5
}
